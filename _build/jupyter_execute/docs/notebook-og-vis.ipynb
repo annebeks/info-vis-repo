{
 "cells": [
  {
   "cell_type": "markdown",
   "metadata": {},
   "source": [
    "# Example Notebook\n",
    "\n",
    "(Last updated: May 22, 2023)\n",
    "\n",
    "You can also create content with Jupyter Notebooks.\n",
    "This means that you can include code blocks and their outputs in your book.\n",
    "In this notebook, we show some examples of loading and plotting data.\n",
    "Check [this documentation](https://jupyterbook.org/en/stable/content/executable/index.html) about how to write executable content."
   ]
  },
  {
   "cell_type": "code",
   "execution_count": 1,
   "metadata": {},
   "outputs": [
    {
     "ename": "ModuleNotFoundError",
     "evalue": "No module named 'ipywidgets'",
     "output_type": "error",
     "traceback": [
      "\u001b[1;31m---------------------------------------------------------------------------\u001b[0m",
      "\u001b[1;31mModuleNotFoundError\u001b[0m                       Traceback (most recent call last)",
      "Cell \u001b[1;32mIn[1], line 9\u001b[0m\n\u001b[0;32m      7\u001b[0m \u001b[38;5;28;01mimport\u001b[39;00m \u001b[38;5;21;01mplotly\u001b[39;00m\u001b[38;5;21;01m.\u001b[39;00m\u001b[38;5;21;01mexpress\u001b[39;00m \u001b[38;5;28;01mas\u001b[39;00m \u001b[38;5;21;01mpx\u001b[39;00m\n\u001b[0;32m      8\u001b[0m \u001b[38;5;28;01mimport\u001b[39;00m \u001b[38;5;21;01mpandas\u001b[39;00m \u001b[38;5;28;01mas\u001b[39;00m \u001b[38;5;21;01mpd\u001b[39;00m\n\u001b[1;32m----> 9\u001b[0m \u001b[38;5;28;01mimport\u001b[39;00m \u001b[38;5;21;01mipywidgets\u001b[39;00m \u001b[38;5;28;01mas\u001b[39;00m \u001b[38;5;21;01mwidgets\u001b[39;00m\n\u001b[0;32m     10\u001b[0m \u001b[38;5;28;01mfrom\u001b[39;00m \u001b[38;5;21;01mIPython\u001b[39;00m\u001b[38;5;21;01m.\u001b[39;00m\u001b[38;5;21;01mdisplay\u001b[39;00m \u001b[38;5;28;01mimport\u001b[39;00m display\n\u001b[0;32m     12\u001b[0m \u001b[38;5;28;01mfrom\u001b[39;00m \u001b[38;5;21;01mplotly\u001b[39;00m\u001b[38;5;21;01m.\u001b[39;00m\u001b[38;5;21;01moffline\u001b[39;00m \u001b[38;5;28;01mimport\u001b[39;00m init_notebook_mode\n",
      "\u001b[1;31mModuleNotFoundError\u001b[0m: No module named 'ipywidgets'"
     ]
    }
   ],
   "source": [
    "# Import packages\n",
    "# import pandas as pd\n",
    "# import plotly.express as px\n",
    "import seaborn as sns\n",
    "\n",
    "import plotly.graph_objs as go\n",
    "import plotly.express as px\n",
    "import pandas as pd\n",
    "import ipywidgets as widgets\n",
    "from IPython.display import display\n",
    "\n",
    "from plotly.offline import init_notebook_mode\n",
    "init_notebook_mode(connected=True)"
   ]
  },
  {
   "cell_type": "markdown",
   "metadata": {},
   "source": [
    "## Data voor visualisatie 1 & 2\n",
    "\n",
    "Persvrijheid data voorbereiden:"
   ]
  },
  {
   "cell_type": "code",
   "execution_count": 2,
   "metadata": {},
   "outputs": [],
   "source": [
    "# create a dataframe for the pressfreedom data of every year, renamed a few columns from the latest three datasets so they are the same as the rest\n",
    "df_24 = pd.read_csv('data-vis/persvrijheid/2024.csv', sep = ';').rename(columns={\"Score\": \"Score N\", \"Rank\": \"Rank N\", \"Country_FR\": \"FR_country\", \"Country_EN\": \"EN_country\", \"Country_ES\": \"ES_country\", \"Country_FA\": \"FA_country\", \"Country_AR\": \"AR_country\"})\n",
    "df_23 = pd.read_csv('data-vis/persvrijheid/2023.csv', sep = ';').rename(columns={\"Score\": \"Score N\", \"Rank\": \"Rank N\", \"Country_FR\": \"FR_country\", \"Country_EN\": \"EN_country\", \"Country_ES\": \"ES_country\", \"Country_FA\": \"FA_country\", \"Country_AR\": \"AR_country\"})\n",
    "df_22 = pd.read_csv('data-vis/persvrijheid/2022.csv', sep = ';').rename(columns={\"Score\": \"Score N\", \"Rank\": \"Rank N\", \"Country_FR\": \"FR_country\", \"Country_EN\": \"EN_country\", \"Country_ES\": \"ES_country\", \"Country_FA\": \"FA_country\", \"Country_AR\": \"AR_country\"})\n",
    "df_21 = pd.read_csv('data-vis/persvrijheid/2021.csv', sep = ';')\n",
    "df_20 = pd.read_csv('data-vis/persvrijheid/2020.csv', sep = ';')\n",
    "df_19 = pd.read_csv('data-vis/persvrijheid/2019.csv', sep = ';')\n",
    "\n",
    "# onderstaande datasets zijn niet gebruikt, kunnen waarschijnlijk weg.\n",
    "df_18 = pd.read_csv('data-vis/persvrijheid/2018.csv', sep = ';')\n",
    "df_17 = pd.read_csv('data-vis/persvrijheid/2017.csv', sep = ';')\n",
    "df_16 = pd.read_csv('data-vis/persvrijheid/2016.csv', sep = ';')\n",
    "df_15 = pd.read_csv('data-vis/persvrijheid/2015.csv', sep = ';')\n",
    "df_14 = pd.read_csv('data-vis/persvrijheid/2014.csv', sep = ';')\n",
    "df_13 = pd.read_csv('data-vis/persvrijheid/2013.csv', sep = ';')\n",
    "df_12 = pd.read_csv('data-vis/persvrijheid/2012.csv', sep = ';')\n",
    "df_10 = pd.read_csv('data-vis/persvrijheid/2010.csv', sep = ';')\n",
    "df_09 = pd.read_csv('data-vis/persvrijheid/2009.csv', sep = ';')\n",
    "df_08 = pd.read_csv('data-vis/persvrijheid/2008.csv', sep = ';')\n",
    "df_07 = pd.read_csv('data-vis/persvrijheid/2007.csv', sep = ';')\n",
    "df_06 = pd.read_csv('data-vis/persvrijheid/2006.csv', sep = ';')\n",
    "df_05 = pd.read_csv('data-vis/persvrijheid/2005.csv', sep = ';')\n",
    "df_04 = pd.read_csv('data-vis/persvrijheid/2004.csv', sep = ';')\n",
    "df_03 = pd.read_csv('data-vis/persvrijheid/2003.csv', sep = ';')\n",
    "df_02 = pd.read_csv('data-vis/persvrijheid/2002.csv', sep = ';')"
   ]
  },
  {
   "cell_type": "code",
   "execution_count": 3,
   "metadata": {},
   "outputs": [],
   "source": [
    "# combineer de persvrijheid data voor elk land / elk jaar\n",
    "# niet gebruikt, kan waarschijnlijk weg\n",
    "\n",
    "df_combined = pd.concat([df_24, df_23, df_22, df_21, df_20, df_19, df_18, df_17, df_16, df_15, df_14, df_13, df_12, df_10, df_09, df_08, df_07, df_06, df_05, df_04, df_03, df_02])\n",
    "df_grouped = df_combined.groupby(by='ISO')\n",
    "# for name, dataframe in df_grouped:\n",
    "#     if name == 'NLD':\n",
    "#         df_nld = dataframe\n",
    "#         display(dataframe)\n",
    "# conclusie: data vanaf 2013 is bruikbaar"
   ]
  },
  {
   "cell_type": "code",
   "execution_count": 4,
   "metadata": {},
   "outputs": [],
   "source": [
    "# combineer de data voor elk land vanaf het jaar 2019\n",
    "\n",
    "df_combined_19 = pd.concat([df_24, df_23, df_22, df_21, df_20, df_19])\n",
    "df_grouped_19 = df_combined_19.groupby(by='ISO')\n",
    "# for name, dataframe in df_grouped_19:\n",
    "#     if name == 'NLD':\n",
    "#         df_nld_19 = dataframe\n",
    "# #         display(dataframe)\n",
    "# display(df_combined_19[df_combined_19[\"ISO\"].isin(['NOR', 'DNK', 'SWE', 'FIN', 'NLD', 'EN'])])\n",
    "# df_combined_13.where(df_combined_13[\"ISO\"] in  ['NOR', 'DNK', 'SWE', 'FIN', 'NLD', 'EN'])\n",
    "# .isin(li)\n",
    "# {'NOR', 'DNK', 'SWE', 'FIN', 'NLD', 'EN'}"
   ]
  },
  {
   "cell_type": "markdown",
   "metadata": {},
   "source": [
    "Democratie data (2023) voorbereiden:"
   ]
  },
  {
   "cell_type": "code",
   "execution_count": 5,
   "metadata": {},
   "outputs": [],
   "source": [
    "# maak de data klaar voor de persvrijheid en democratie scores van 2023\n",
    "\n",
    "data_23 = pd.read_csv('data-vis/persvrijheid/2023.csv', sep = ';')\n",
    "data_dem = pd.read_csv('data-vis/democracy.csv')\n",
    "data_dem_23 = data_dem[data_dem[\"Year\"]==2023].sort_values(by=\"Democracy score\", ascending=False).reset_index().rename(columns={'Entity':'Country_EN'})"
   ]
  },
  {
   "cell_type": "code",
   "execution_count": 6,
   "metadata": {},
   "outputs": [],
   "source": [
    "# geef de landen een ranking gebaseerd om de democratie score\n",
    "\n",
    "score = data_dem_23.iloc[0][\"Democracy score\"]\n",
    "rank = 1\n",
    "ranking = []\n",
    "for country in data_dem_23.index:\n",
    "    count = country + 1\n",
    "    if len(ranking)==0:\n",
    "        ranking.append(1)\n",
    "    else: \n",
    "        if data_dem_23.iloc[country][\"Democracy score\"] == data_dem_23.iloc[country-1][\"Democracy score\"]:\n",
    "            ranking.append(ranking[-1])\n",
    "        elif data_dem_23.iloc[country][\"Democracy score\"] < data_dem_23.iloc[country-1][\"Democracy score\"]:\n",
    "            ranking.append(count)\n",
    "            \n",
    "data_dem_23[\"ranking\"] = ranking"
   ]
  },
  {
   "cell_type": "code",
   "execution_count": 7,
   "metadata": {},
   "outputs": [],
   "source": [
    "#join de democratie en persvrijheid data tot één dataframe\n",
    "data_joined = pd.merge(data_dem_23, data_23, on='Country_EN', how='inner')\n"
   ]
  },
  {
   "cell_type": "markdown",
   "metadata": {},
   "source": [
    "## Data voor visualisatie 3\n",
    "\n",
    "Overige democratie data voorbereiden (vanaf 2019)"
   ]
  },
  {
   "cell_type": "code",
   "execution_count": 8,
   "metadata": {},
   "outputs": [],
   "source": [
    "# maak ook de democratie data klaar voor de andere jaartallen vanaf 2019 (voor 2024 is er geen data)\n",
    "\n",
    "data_dem_22 = data_dem[data_dem[\"Year\"]==2022].sort_values(by=\"Democracy score\", ascending=False).reset_index().rename(columns={'Entity':'Country_EN'})\n",
    "data_dem_21 = data_dem[data_dem[\"Year\"]==2021].sort_values(by=\"Democracy score\", ascending=False).reset_index().rename(columns={'Entity':'Country_EN'})\n",
    "data_dem_20 = data_dem[data_dem[\"Year\"]==2020].sort_values(by=\"Democracy score\", ascending=False).reset_index().rename(columns={'Entity':'Country_EN'})\n",
    "data_dem_19 = data_dem[data_dem[\"Year\"]==2019].sort_values(by=\"Democracy score\", ascending=False).reset_index().rename(columns={'Entity':'Country_EN'})\n",
    "\n",
    "\n",
    "\n",
    "# 2022\n",
    "score = data_dem_22.iloc[0][\"Democracy score\"]\n",
    "rank = 1\n",
    "ranking = []\n",
    "for country in data_dem_22.index:\n",
    "    count = country + 1\n",
    "    if len(ranking)==0:\n",
    "        ranking.append(1)\n",
    "    else: \n",
    "        if data_dem_22.iloc[country][\"Democracy score\"] == data_dem_22.iloc[country-1][\"Democracy score\"]:\n",
    "            ranking.append(ranking[-1])\n",
    "        elif data_dem_22.iloc[country][\"Democracy score\"] < data_dem_22.iloc[country-1][\"Democracy score\"]:\n",
    "            ranking.append(count)\n",
    "            \n",
    "data_dem_22[\"ranking\"] = ranking\n",
    "\n",
    "\n",
    "#2021\n",
    "score = data_dem_21.iloc[0][\"Democracy score\"]\n",
    "rank = 1\n",
    "ranking = []\n",
    "for country in data_dem_21.index:\n",
    "    count = country + 1\n",
    "    if len(ranking)==0:\n",
    "        ranking.append(1)\n",
    "    else: \n",
    "        if data_dem_21.iloc[country][\"Democracy score\"] == data_dem_21.iloc[country-1][\"Democracy score\"]:\n",
    "            ranking.append(ranking[-1])\n",
    "        elif data_dem_21.iloc[country][\"Democracy score\"] < data_dem_21.iloc[country-1][\"Democracy score\"]:\n",
    "            ranking.append(count)\n",
    "            \n",
    "data_dem_21[\"ranking\"] = ranking\n",
    "\n",
    "\n",
    "#2020\n",
    "score = data_dem_20.iloc[0][\"Democracy score\"]\n",
    "rank = 1\n",
    "ranking = []\n",
    "for country in data_dem_20.index:\n",
    "    count = country + 1\n",
    "    if len(ranking)==0:\n",
    "        ranking.append(1)\n",
    "    else: \n",
    "        if data_dem_20.iloc[country][\"Democracy score\"] == data_dem_20.iloc[country-1][\"Democracy score\"]:\n",
    "            ranking.append(ranking[-1])\n",
    "        elif data_dem_20.iloc[country][\"Democracy score\"] < data_dem_20.iloc[country-1][\"Democracy score\"]:\n",
    "            ranking.append(count)\n",
    "            \n",
    "data_dem_20[\"ranking\"] = ranking\n",
    "\n",
    "\n",
    "#2019\n",
    "score = data_dem_19.iloc[0][\"Democracy score\"]\n",
    "rank = 1\n",
    "ranking = []\n",
    "for country in data_dem_19.index:\n",
    "    count = country + 1\n",
    "    if len(ranking)==0:\n",
    "        ranking.append(1)\n",
    "    else: \n",
    "        if data_dem_19.iloc[country][\"Democracy score\"] == data_dem_19.iloc[country-1][\"Democracy score\"]:\n",
    "            ranking.append(ranking[-1])\n",
    "        elif data_dem_19.iloc[country][\"Democracy score\"] < data_dem_19.iloc[country-1][\"Democracy score\"]:\n",
    "            ranking.append(count)\n",
    "            \n",
    "data_dem_19[\"ranking\"] = ranking\n",
    "\n",
    "\n",
    "\n",
    "\n",
    "# combine them all\n",
    "data_dem_combined = pd.concat([data_dem_23, data_dem_22, data_dem_21, data_dem_20, data_dem_19])"
   ]
  },
  {
   "cell_type": "markdown",
   "metadata": {},
   "source": [
    "## Data voor visualisatie 4\n",
    "\n",
    "Conflict data voorbereiden"
   ]
  },
  {
   "cell_type": "code",
   "execution_count": 9,
   "metadata": {},
   "outputs": [
    {
     "data": {
      "text/html": [
       "<div>\n",
       "<style scoped>\n",
       "    .dataframe tbody tr th:only-of-type {\n",
       "        vertical-align: middle;\n",
       "    }\n",
       "\n",
       "    .dataframe tbody tr th {\n",
       "        vertical-align: top;\n",
       "    }\n",
       "\n",
       "    .dataframe thead th {\n",
       "        text-align: right;\n",
       "    }\n",
       "</style>\n",
       "<table border=\"1\" class=\"dataframe\">\n",
       "  <thead>\n",
       "    <tr style=\"text-align: right;\">\n",
       "      <th></th>\n",
       "      <th>Country_EN</th>\n",
       "      <th>Index Category 2023</th>\n",
       "      <th>Index Ranking 2023</th>\n",
       "      <th>Index Category July 2023</th>\n",
       "      <th>Index Ranking July 2023</th>\n",
       "      <th>Change category since July 2023</th>\n",
       "      <th>Change in ranking since July 2023</th>\n",
       "      <th>Deadliness Ranking 2023</th>\n",
       "      <th>Danger Ranking 2023</th>\n",
       "      <th>Diffusion Ranking 2023</th>\n",
       "      <th>Fragmentation Ranking 2023</th>\n",
       "      <th>Deadliness Ranking July 2023</th>\n",
       "      <th>Danger Ranking July 2023</th>\n",
       "      <th>Diffusion Ranking July 2023</th>\n",
       "      <th>Fragmentation Ranking July 2023</th>\n",
       "      <th>Change in ranking since 2019</th>\n",
       "      <th>Change category since 2019</th>\n",
       "      <th>Total score 2023</th>\n",
       "    </tr>\n",
       "  </thead>\n",
       "  <tbody>\n",
       "    <tr>\n",
       "      <th>0</th>\n",
       "      <td>Myanmar</td>\n",
       "      <td>Extreme</td>\n",
       "      <td>1</td>\n",
       "      <td>Extreme</td>\n",
       "      <td>1.0</td>\n",
       "      <td>Consistently concerning</td>\n",
       "      <td>0.0</td>\n",
       "      <td>3</td>\n",
       "      <td>4</td>\n",
       "      <td>9</td>\n",
       "      <td>1</td>\n",
       "      <td>2.0</td>\n",
       "      <td>4.0</td>\n",
       "      <td>8.0</td>\n",
       "      <td>1.0</td>\n",
       "      <td>17</td>\n",
       "      <td>Worsening</td>\n",
       "      <td>2.109</td>\n",
       "    </tr>\n",
       "    <tr>\n",
       "      <th>1</th>\n",
       "      <td>Syria</td>\n",
       "      <td>Extreme</td>\n",
       "      <td>2</td>\n",
       "      <td>Extreme</td>\n",
       "      <td>2.0</td>\n",
       "      <td>Consistently concerning</td>\n",
       "      <td>0.0</td>\n",
       "      <td>10</td>\n",
       "      <td>5</td>\n",
       "      <td>4</td>\n",
       "      <td>2</td>\n",
       "      <td>8.0</td>\n",
       "      <td>5.0</td>\n",
       "      <td>3.0</td>\n",
       "      <td>2.0</td>\n",
       "      <td>-1</td>\n",
       "      <td>Consistently concerning</td>\n",
       "      <td>0.987</td>\n",
       "    </tr>\n",
       "    <tr>\n",
       "      <th>2</th>\n",
       "      <td>Palestine</td>\n",
       "      <td>Extreme</td>\n",
       "      <td>3</td>\n",
       "      <td>High</td>\n",
       "      <td>11.0</td>\n",
       "      <td>Worsening</td>\n",
       "      <td>8.0</td>\n",
       "      <td>2</td>\n",
       "      <td>3</td>\n",
       "      <td>1</td>\n",
       "      <td>16</td>\n",
       "      <td>34.0</td>\n",
       "      <td>9.0</td>\n",
       "      <td>1.0</td>\n",
       "      <td>17.0</td>\n",
       "      <td>20</td>\n",
       "      <td>Worsening</td>\n",
       "      <td>2.456</td>\n",
       "    </tr>\n",
       "    <tr>\n",
       "      <th>3</th>\n",
       "      <td>Mexico</td>\n",
       "      <td>Extreme</td>\n",
       "      <td>4</td>\n",
       "      <td>Extreme</td>\n",
       "      <td>3.0</td>\n",
       "      <td>Consistently concerning</td>\n",
       "      <td>-1.0</td>\n",
       "      <td>8</td>\n",
       "      <td>1</td>\n",
       "      <td>17</td>\n",
       "      <td>5</td>\n",
       "      <td>5.0</td>\n",
       "      <td>1.0</td>\n",
       "      <td>18.0</td>\n",
       "      <td>6.0</td>\n",
       "      <td>-1</td>\n",
       "      <td>Consistently concerning</td>\n",
       "      <td>1.310</td>\n",
       "    </tr>\n",
       "    <tr>\n",
       "      <th>4</th>\n",
       "      <td>Nigeria</td>\n",
       "      <td>Extreme</td>\n",
       "      <td>5</td>\n",
       "      <td>Extreme</td>\n",
       "      <td>5.0</td>\n",
       "      <td>Consistently concerning</td>\n",
       "      <td>0.0</td>\n",
       "      <td>5</td>\n",
       "      <td>7</td>\n",
       "      <td>19</td>\n",
       "      <td>9</td>\n",
       "      <td>3.0</td>\n",
       "      <td>6.0</td>\n",
       "      <td>22.0</td>\n",
       "      <td>9.0</td>\n",
       "      <td>6</td>\n",
       "      <td>Worsening</td>\n",
       "      <td>0.728</td>\n",
       "    </tr>\n",
       "    <tr>\n",
       "      <th>...</th>\n",
       "      <td>...</td>\n",
       "      <td>...</td>\n",
       "      <td>...</td>\n",
       "      <td>...</td>\n",
       "      <td>...</td>\n",
       "      <td>...</td>\n",
       "      <td>...</td>\n",
       "      <td>...</td>\n",
       "      <td>...</td>\n",
       "      <td>...</td>\n",
       "      <td>...</td>\n",
       "      <td>...</td>\n",
       "      <td>...</td>\n",
       "      <td>...</td>\n",
       "      <td>...</td>\n",
       "      <td>...</td>\n",
       "      <td>...</td>\n",
       "      <td>...</td>\n",
       "    </tr>\n",
       "    <tr>\n",
       "      <th>238</th>\n",
       "      <td>Kiribati</td>\n",
       "      <td>Low/Inactive</td>\n",
       "      <td>163</td>\n",
       "      <td>Low/Inactive</td>\n",
       "      <td>167.0</td>\n",
       "      <td>Consistent</td>\n",
       "      <td>4.0</td>\n",
       "      <td>125</td>\n",
       "      <td>161</td>\n",
       "      <td>54</td>\n",
       "      <td>118</td>\n",
       "      <td>125.0</td>\n",
       "      <td>163.0</td>\n",
       "      <td>59.0</td>\n",
       "      <td>125.0</td>\n",
       "      <td>-30</td>\n",
       "      <td>Consistent</td>\n",
       "      <td>0.000</td>\n",
       "    </tr>\n",
       "    <tr>\n",
       "      <th>239</th>\n",
       "      <td>Northern Mariana Islands</td>\n",
       "      <td>Low/Inactive</td>\n",
       "      <td>163</td>\n",
       "      <td>Low/Inactive</td>\n",
       "      <td>167.0</td>\n",
       "      <td>Consistent</td>\n",
       "      <td>4.0</td>\n",
       "      <td>125</td>\n",
       "      <td>161</td>\n",
       "      <td>54</td>\n",
       "      <td>118</td>\n",
       "      <td>125.0</td>\n",
       "      <td>163.0</td>\n",
       "      <td>59.0</td>\n",
       "      <td>125.0</td>\n",
       "      <td>-30</td>\n",
       "      <td>Consistent</td>\n",
       "      <td>0.000</td>\n",
       "    </tr>\n",
       "    <tr>\n",
       "      <th>240</th>\n",
       "      <td>Palau</td>\n",
       "      <td>Low/Inactive</td>\n",
       "      <td>163</td>\n",
       "      <td>Low/Inactive</td>\n",
       "      <td>167.0</td>\n",
       "      <td>Consistent</td>\n",
       "      <td>4.0</td>\n",
       "      <td>125</td>\n",
       "      <td>161</td>\n",
       "      <td>54</td>\n",
       "      <td>118</td>\n",
       "      <td>125.0</td>\n",
       "      <td>163.0</td>\n",
       "      <td>59.0</td>\n",
       "      <td>125.0</td>\n",
       "      <td>-30</td>\n",
       "      <td>Consistent</td>\n",
       "      <td>0.000</td>\n",
       "    </tr>\n",
       "    <tr>\n",
       "      <th>241</th>\n",
       "      <td>Antarctica</td>\n",
       "      <td>Low/Inactive</td>\n",
       "      <td>163</td>\n",
       "      <td>Low/Inactive</td>\n",
       "      <td>167.0</td>\n",
       "      <td>Consistent</td>\n",
       "      <td>4.0</td>\n",
       "      <td>125</td>\n",
       "      <td>161</td>\n",
       "      <td>54</td>\n",
       "      <td>118</td>\n",
       "      <td>125.0</td>\n",
       "      <td>163.0</td>\n",
       "      <td>59.0</td>\n",
       "      <td>125.0</td>\n",
       "      <td>-30</td>\n",
       "      <td>Consistent</td>\n",
       "      <td>0.000</td>\n",
       "    </tr>\n",
       "    <tr>\n",
       "      <th>242</th>\n",
       "      <td>French Southern and Antarctic Lands</td>\n",
       "      <td>Low/Inactive</td>\n",
       "      <td>163</td>\n",
       "      <td>NaN</td>\n",
       "      <td>NaN</td>\n",
       "      <td>NaN</td>\n",
       "      <td>NaN</td>\n",
       "      <td>125</td>\n",
       "      <td>161</td>\n",
       "      <td>54</td>\n",
       "      <td>118</td>\n",
       "      <td>NaN</td>\n",
       "      <td>NaN</td>\n",
       "      <td>NaN</td>\n",
       "      <td>NaN</td>\n",
       "      <td>-30</td>\n",
       "      <td>Consistent</td>\n",
       "      <td>0.000</td>\n",
       "    </tr>\n",
       "  </tbody>\n",
       "</table>\n",
       "<p>243 rows × 18 columns</p>\n",
       "</div>"
      ],
      "text/plain": [
       "                              Country_EN Index Category 2023  \\\n",
       "0                                Myanmar             Extreme   \n",
       "1                                  Syria             Extreme   \n",
       "2                              Palestine             Extreme   \n",
       "3                                 Mexico             Extreme   \n",
       "4                                Nigeria             Extreme   \n",
       "..                                   ...                 ...   \n",
       "238                             Kiribati        Low/Inactive   \n",
       "239             Northern Mariana Islands        Low/Inactive   \n",
       "240                                Palau        Low/Inactive   \n",
       "241                           Antarctica        Low/Inactive   \n",
       "242  French Southern and Antarctic Lands        Low/Inactive   \n",
       "\n",
       "     Index Ranking 2023 Index Category July 2023  Index Ranking July 2023  \\\n",
       "0                     1                  Extreme                      1.0   \n",
       "1                     2                  Extreme                      2.0   \n",
       "2                     3                     High                     11.0   \n",
       "3                     4                  Extreme                      3.0   \n",
       "4                     5                  Extreme                      5.0   \n",
       "..                  ...                      ...                      ...   \n",
       "238                 163             Low/Inactive                    167.0   \n",
       "239                 163             Low/Inactive                    167.0   \n",
       "240                 163             Low/Inactive                    167.0   \n",
       "241                 163             Low/Inactive                    167.0   \n",
       "242                 163                      NaN                      NaN   \n",
       "\n",
       "    Change category since July 2023  Change in ranking since July 2023  \\\n",
       "0           Consistently concerning                                0.0   \n",
       "1           Consistently concerning                                0.0   \n",
       "2                         Worsening                                8.0   \n",
       "3           Consistently concerning                               -1.0   \n",
       "4           Consistently concerning                                0.0   \n",
       "..                              ...                                ...   \n",
       "238                      Consistent                                4.0   \n",
       "239                      Consistent                                4.0   \n",
       "240                      Consistent                                4.0   \n",
       "241                      Consistent                                4.0   \n",
       "242                             NaN                                NaN   \n",
       "\n",
       "     Deadliness Ranking 2023  Danger Ranking 2023  Diffusion Ranking 2023  \\\n",
       "0                          3                    4                       9   \n",
       "1                         10                    5                       4   \n",
       "2                          2                    3                       1   \n",
       "3                          8                    1                      17   \n",
       "4                          5                    7                      19   \n",
       "..                       ...                  ...                     ...   \n",
       "238                      125                  161                      54   \n",
       "239                      125                  161                      54   \n",
       "240                      125                  161                      54   \n",
       "241                      125                  161                      54   \n",
       "242                      125                  161                      54   \n",
       "\n",
       "     Fragmentation Ranking 2023  Deadliness Ranking July 2023  \\\n",
       "0                             1                           2.0   \n",
       "1                             2                           8.0   \n",
       "2                            16                          34.0   \n",
       "3                             5                           5.0   \n",
       "4                             9                           3.0   \n",
       "..                          ...                           ...   \n",
       "238                         118                         125.0   \n",
       "239                         118                         125.0   \n",
       "240                         118                         125.0   \n",
       "241                         118                         125.0   \n",
       "242                         118                           NaN   \n",
       "\n",
       "     Danger Ranking July 2023  Diffusion Ranking July 2023  \\\n",
       "0                         4.0                          8.0   \n",
       "1                         5.0                          3.0   \n",
       "2                         9.0                          1.0   \n",
       "3                         1.0                         18.0   \n",
       "4                         6.0                         22.0   \n",
       "..                        ...                          ...   \n",
       "238                     163.0                         59.0   \n",
       "239                     163.0                         59.0   \n",
       "240                     163.0                         59.0   \n",
       "241                     163.0                         59.0   \n",
       "242                       NaN                          NaN   \n",
       "\n",
       "     Fragmentation Ranking July 2023  Change in ranking since 2019  \\\n",
       "0                                1.0                            17   \n",
       "1                                2.0                            -1   \n",
       "2                               17.0                            20   \n",
       "3                                6.0                            -1   \n",
       "4                                9.0                             6   \n",
       "..                               ...                           ...   \n",
       "238                            125.0                           -30   \n",
       "239                            125.0                           -30   \n",
       "240                            125.0                           -30   \n",
       "241                            125.0                           -30   \n",
       "242                              NaN                           -30   \n",
       "\n",
       "    Change category since 2019  Total score 2023  \n",
       "0                    Worsening             2.109  \n",
       "1      Consistently concerning             0.987  \n",
       "2                    Worsening             2.456  \n",
       "3      Consistently concerning             1.310  \n",
       "4                    Worsening             0.728  \n",
       "..                         ...               ...  \n",
       "238                 Consistent             0.000  \n",
       "239                 Consistent             0.000  \n",
       "240                 Consistent             0.000  \n",
       "241                 Consistent             0.000  \n",
       "242                 Consistent             0.000  \n",
       "\n",
       "[243 rows x 18 columns]"
      ]
     },
     "metadata": {},
     "output_type": "display_data"
    }
   ],
   "source": [
    "data_conflict = pd.read_csv('data-vis/conflict.csv').rename(columns={'country': 'Country_EN'})\n",
    "display(data_conflict)"
   ]
  },
  {
   "cell_type": "code",
   "execution_count": 10,
   "metadata": {},
   "outputs": [
    {
     "data": {
      "text/html": [
       "<div>\n",
       "<style scoped>\n",
       "    .dataframe tbody tr th:only-of-type {\n",
       "        vertical-align: middle;\n",
       "    }\n",
       "\n",
       "    .dataframe tbody tr th {\n",
       "        vertical-align: top;\n",
       "    }\n",
       "\n",
       "    .dataframe thead th {\n",
       "        text-align: right;\n",
       "    }\n",
       "</style>\n",
       "<table border=\"1\" class=\"dataframe\">\n",
       "  <thead>\n",
       "    <tr style=\"text-align: right;\">\n",
       "      <th></th>\n",
       "      <th>index</th>\n",
       "      <th>Country_EN</th>\n",
       "      <th>Code</th>\n",
       "      <th>Year</th>\n",
       "      <th>Democracy score</th>\n",
       "      <th>ranking</th>\n",
       "      <th>Index Category 2023</th>\n",
       "      <th>Index Ranking 2023</th>\n",
       "      <th>Index Category July 2023</th>\n",
       "      <th>Index Ranking July 2023</th>\n",
       "      <th>...</th>\n",
       "      <th>Danger Ranking 2023</th>\n",
       "      <th>Diffusion Ranking 2023</th>\n",
       "      <th>Fragmentation Ranking 2023</th>\n",
       "      <th>Deadliness Ranking July 2023</th>\n",
       "      <th>Danger Ranking July 2023</th>\n",
       "      <th>Diffusion Ranking July 2023</th>\n",
       "      <th>Fragmentation Ranking July 2023</th>\n",
       "      <th>Change in ranking since 2019</th>\n",
       "      <th>Change category since 2019</th>\n",
       "      <th>Total score 2023</th>\n",
       "    </tr>\n",
       "  </thead>\n",
       "  <tbody>\n",
       "    <tr>\n",
       "      <th>0</th>\n",
       "      <td>1907</td>\n",
       "      <td>Norway</td>\n",
       "      <td>NOR</td>\n",
       "      <td>2023</td>\n",
       "      <td>9.81</td>\n",
       "      <td>1</td>\n",
       "      <td>Low/Inactive</td>\n",
       "      <td>146</td>\n",
       "      <td>Low/Inactive</td>\n",
       "      <td>156.0</td>\n",
       "      <td>...</td>\n",
       "      <td>139</td>\n",
       "      <td>54</td>\n",
       "      <td>118</td>\n",
       "      <td>125.0</td>\n",
       "      <td>145.0</td>\n",
       "      <td>59.0</td>\n",
       "      <td>125.0</td>\n",
       "      <td>-13</td>\n",
       "      <td>Consistent</td>\n",
       "      <td>0.000</td>\n",
       "    </tr>\n",
       "    <tr>\n",
       "      <th>1</th>\n",
       "      <td>1796</td>\n",
       "      <td>New Zealand</td>\n",
       "      <td>NZL</td>\n",
       "      <td>2023</td>\n",
       "      <td>9.61</td>\n",
       "      <td>2</td>\n",
       "      <td>Low/Inactive</td>\n",
       "      <td>163</td>\n",
       "      <td>Low/Inactive</td>\n",
       "      <td>167.0</td>\n",
       "      <td>...</td>\n",
       "      <td>161</td>\n",
       "      <td>54</td>\n",
       "      <td>118</td>\n",
       "      <td>125.0</td>\n",
       "      <td>163.0</td>\n",
       "      <td>59.0</td>\n",
       "      <td>125.0</td>\n",
       "      <td>-30</td>\n",
       "      <td>Consistent</td>\n",
       "      <td>0.000</td>\n",
       "    </tr>\n",
       "    <tr>\n",
       "      <th>2</th>\n",
       "      <td>1160</td>\n",
       "      <td>Iceland</td>\n",
       "      <td>ISL</td>\n",
       "      <td>2023</td>\n",
       "      <td>9.45</td>\n",
       "      <td>3</td>\n",
       "      <td>Low/Inactive</td>\n",
       "      <td>146</td>\n",
       "      <td>Low/Inactive</td>\n",
       "      <td>167.0</td>\n",
       "      <td>...</td>\n",
       "      <td>139</td>\n",
       "      <td>54</td>\n",
       "      <td>118</td>\n",
       "      <td>125.0</td>\n",
       "      <td>163.0</td>\n",
       "      <td>59.0</td>\n",
       "      <td>125.0</td>\n",
       "      <td>-13</td>\n",
       "      <td>Consistent</td>\n",
       "      <td>0.000</td>\n",
       "    </tr>\n",
       "    <tr>\n",
       "      <th>3</th>\n",
       "      <td>2385</td>\n",
       "      <td>Sweden</td>\n",
       "      <td>SWE</td>\n",
       "      <td>2023</td>\n",
       "      <td>9.39</td>\n",
       "      <td>4</td>\n",
       "      <td>Low/Inactive</td>\n",
       "      <td>140</td>\n",
       "      <td>Low/Inactive</td>\n",
       "      <td>139.0</td>\n",
       "      <td>...</td>\n",
       "      <td>128</td>\n",
       "      <td>54</td>\n",
       "      <td>118</td>\n",
       "      <td>125.0</td>\n",
       "      <td>122.0</td>\n",
       "      <td>59.0</td>\n",
       "      <td>125.0</td>\n",
       "      <td>-7</td>\n",
       "      <td>Consistent</td>\n",
       "      <td>0.001</td>\n",
       "    </tr>\n",
       "    <tr>\n",
       "      <th>4</th>\n",
       "      <td>904</td>\n",
       "      <td>Finland</td>\n",
       "      <td>FIN</td>\n",
       "      <td>2023</td>\n",
       "      <td>9.30</td>\n",
       "      <td>5</td>\n",
       "      <td>Low/Inactive</td>\n",
       "      <td>146</td>\n",
       "      <td>Low/Inactive</td>\n",
       "      <td>156.0</td>\n",
       "      <td>...</td>\n",
       "      <td>139</td>\n",
       "      <td>54</td>\n",
       "      <td>118</td>\n",
       "      <td>125.0</td>\n",
       "      <td>145.0</td>\n",
       "      <td>59.0</td>\n",
       "      <td>125.0</td>\n",
       "      <td>-13</td>\n",
       "      <td>Consistent</td>\n",
       "      <td>0.000</td>\n",
       "    </tr>\n",
       "    <tr>\n",
       "      <th>...</th>\n",
       "      <td>...</td>\n",
       "      <td>...</td>\n",
       "      <td>...</td>\n",
       "      <td>...</td>\n",
       "      <td>...</td>\n",
       "      <td>...</td>\n",
       "      <td>...</td>\n",
       "      <td>...</td>\n",
       "      <td>...</td>\n",
       "      <td>...</td>\n",
       "      <td>...</td>\n",
       "      <td>...</td>\n",
       "      <td>...</td>\n",
       "      <td>...</td>\n",
       "      <td>...</td>\n",
       "      <td>...</td>\n",
       "      <td>...</td>\n",
       "      <td>...</td>\n",
       "      <td>...</td>\n",
       "      <td>...</td>\n",
       "      <td>...</td>\n",
       "    </tr>\n",
       "    <tr>\n",
       "      <th>138</th>\n",
       "      <td>2131</td>\n",
       "      <td>Russia</td>\n",
       "      <td>RUS</td>\n",
       "      <td>2023</td>\n",
       "      <td>2.22</td>\n",
       "      <td>151</td>\n",
       "      <td>Turbulent</td>\n",
       "      <td>36</td>\n",
       "      <td>Turbulent</td>\n",
       "      <td>39.0</td>\n",
       "      <td>...</td>\n",
       "      <td>29</td>\n",
       "      <td>40</td>\n",
       "      <td>33</td>\n",
       "      <td>45.0</td>\n",
       "      <td>34.0</td>\n",
       "      <td>45.0</td>\n",
       "      <td>38.0</td>\n",
       "      <td>19</td>\n",
       "      <td>Worsening</td>\n",
       "      <td>0.076</td>\n",
       "    </tr>\n",
       "    <tr>\n",
       "      <th>139</th>\n",
       "      <td>1048</td>\n",
       "      <td>Guinea</td>\n",
       "      <td>GIN</td>\n",
       "      <td>2023</td>\n",
       "      <td>2.21</td>\n",
       "      <td>152</td>\n",
       "      <td>Low/Inactive</td>\n",
       "      <td>65</td>\n",
       "      <td>Low/Inactive</td>\n",
       "      <td>77.0</td>\n",
       "      <td>...</td>\n",
       "      <td>64</td>\n",
       "      <td>54</td>\n",
       "      <td>73</td>\n",
       "      <td>66.0</td>\n",
       "      <td>68.0</td>\n",
       "      <td>59.0</td>\n",
       "      <td>86.0</td>\n",
       "      <td>-1</td>\n",
       "      <td>Consistent</td>\n",
       "      <td>0.012</td>\n",
       "    </tr>\n",
       "    <tr>\n",
       "      <th>140</th>\n",
       "      <td>936</td>\n",
       "      <td>Gabon</td>\n",
       "      <td>GAB</td>\n",
       "      <td>2023</td>\n",
       "      <td>2.18</td>\n",
       "      <td>153</td>\n",
       "      <td>Low/Inactive</td>\n",
       "      <td>105</td>\n",
       "      <td>Low/Inactive</td>\n",
       "      <td>118.0</td>\n",
       "      <td>...</td>\n",
       "      <td>103</td>\n",
       "      <td>54</td>\n",
       "      <td>85</td>\n",
       "      <td>125.0</td>\n",
       "      <td>107.0</td>\n",
       "      <td>59.0</td>\n",
       "      <td>96.0</td>\n",
       "      <td>12</td>\n",
       "      <td>Consistent</td>\n",
       "      <td>0.003</td>\n",
       "    </tr>\n",
       "    <tr>\n",
       "      <th>141</th>\n",
       "      <td>381</td>\n",
       "      <td>Burundi</td>\n",
       "      <td>BDI</td>\n",
       "      <td>2023</td>\n",
       "      <td>2.13</td>\n",
       "      <td>154</td>\n",
       "      <td>Turbulent</td>\n",
       "      <td>32</td>\n",
       "      <td>Turbulent</td>\n",
       "      <td>35.0</td>\n",
       "      <td>...</td>\n",
       "      <td>34</td>\n",
       "      <td>13</td>\n",
       "      <td>37</td>\n",
       "      <td>46.0</td>\n",
       "      <td>33.0</td>\n",
       "      <td>27.0</td>\n",
       "      <td>45.0</td>\n",
       "      <td>-12</td>\n",
       "      <td>Improving</td>\n",
       "      <td>0.085</td>\n",
       "    </tr>\n",
       "    <tr>\n",
       "      <th>142</th>\n",
       "      <td>507</td>\n",
       "      <td>China</td>\n",
       "      <td>CHN</td>\n",
       "      <td>2023</td>\n",
       "      <td>2.12</td>\n",
       "      <td>155</td>\n",
       "      <td>Low/Inactive</td>\n",
       "      <td>66</td>\n",
       "      <td>Low/Inactive</td>\n",
       "      <td>69.0</td>\n",
       "      <td>...</td>\n",
       "      <td>46</td>\n",
       "      <td>54</td>\n",
       "      <td>73</td>\n",
       "      <td>83.0</td>\n",
       "      <td>43.0</td>\n",
       "      <td>59.0</td>\n",
       "      <td>86.0</td>\n",
       "      <td>-20</td>\n",
       "      <td>Improving</td>\n",
       "      <td>0.027</td>\n",
       "    </tr>\n",
       "  </tbody>\n",
       "</table>\n",
       "<p>143 rows × 23 columns</p>\n",
       "</div>"
      ],
      "text/plain": [
       "     index   Country_EN Code  Year  Democracy score  ranking  \\\n",
       "0     1907       Norway  NOR  2023             9.81        1   \n",
       "1     1796  New Zealand  NZL  2023             9.61        2   \n",
       "2     1160      Iceland  ISL  2023             9.45        3   \n",
       "3     2385       Sweden  SWE  2023             9.39        4   \n",
       "4      904      Finland  FIN  2023             9.30        5   \n",
       "..     ...          ...  ...   ...              ...      ...   \n",
       "138   2131       Russia  RUS  2023             2.22      151   \n",
       "139   1048       Guinea  GIN  2023             2.21      152   \n",
       "140    936        Gabon  GAB  2023             2.18      153   \n",
       "141    381      Burundi  BDI  2023             2.13      154   \n",
       "142    507        China  CHN  2023             2.12      155   \n",
       "\n",
       "    Index Category 2023  Index Ranking 2023 Index Category July 2023  \\\n",
       "0          Low/Inactive                 146             Low/Inactive   \n",
       "1          Low/Inactive                 163             Low/Inactive   \n",
       "2          Low/Inactive                 146             Low/Inactive   \n",
       "3          Low/Inactive                 140             Low/Inactive   \n",
       "4          Low/Inactive                 146             Low/Inactive   \n",
       "..                  ...                 ...                      ...   \n",
       "138           Turbulent                  36                Turbulent   \n",
       "139        Low/Inactive                  65             Low/Inactive   \n",
       "140        Low/Inactive                 105             Low/Inactive   \n",
       "141           Turbulent                  32                Turbulent   \n",
       "142        Low/Inactive                  66             Low/Inactive   \n",
       "\n",
       "     Index Ranking July 2023  ... Danger Ranking 2023  Diffusion Ranking 2023  \\\n",
       "0                      156.0  ...                 139                      54   \n",
       "1                      167.0  ...                 161                      54   \n",
       "2                      167.0  ...                 139                      54   \n",
       "3                      139.0  ...                 128                      54   \n",
       "4                      156.0  ...                 139                      54   \n",
       "..                       ...  ...                 ...                     ...   \n",
       "138                     39.0  ...                  29                      40   \n",
       "139                     77.0  ...                  64                      54   \n",
       "140                    118.0  ...                 103                      54   \n",
       "141                     35.0  ...                  34                      13   \n",
       "142                     69.0  ...                  46                      54   \n",
       "\n",
       "     Fragmentation Ranking 2023  Deadliness Ranking July 2023  \\\n",
       "0                           118                         125.0   \n",
       "1                           118                         125.0   \n",
       "2                           118                         125.0   \n",
       "3                           118                         125.0   \n",
       "4                           118                         125.0   \n",
       "..                          ...                           ...   \n",
       "138                          33                          45.0   \n",
       "139                          73                          66.0   \n",
       "140                          85                         125.0   \n",
       "141                          37                          46.0   \n",
       "142                          73                          83.0   \n",
       "\n",
       "     Danger Ranking July 2023  Diffusion Ranking July 2023  \\\n",
       "0                       145.0                         59.0   \n",
       "1                       163.0                         59.0   \n",
       "2                       163.0                         59.0   \n",
       "3                       122.0                         59.0   \n",
       "4                       145.0                         59.0   \n",
       "..                        ...                          ...   \n",
       "138                      34.0                         45.0   \n",
       "139                      68.0                         59.0   \n",
       "140                     107.0                         59.0   \n",
       "141                      33.0                         27.0   \n",
       "142                      43.0                         59.0   \n",
       "\n",
       "     Fragmentation Ranking July 2023  Change in ranking since 2019  \\\n",
       "0                              125.0                           -13   \n",
       "1                              125.0                           -30   \n",
       "2                              125.0                           -13   \n",
       "3                              125.0                            -7   \n",
       "4                              125.0                           -13   \n",
       "..                               ...                           ...   \n",
       "138                             38.0                            19   \n",
       "139                             86.0                            -1   \n",
       "140                             96.0                            12   \n",
       "141                             45.0                           -12   \n",
       "142                             86.0                           -20   \n",
       "\n",
       "     Change category since 2019  Total score 2023  \n",
       "0                    Consistent             0.000  \n",
       "1                    Consistent             0.000  \n",
       "2                    Consistent             0.000  \n",
       "3                    Consistent             0.001  \n",
       "4                    Consistent             0.000  \n",
       "..                          ...               ...  \n",
       "138                   Worsening             0.076  \n",
       "139                  Consistent             0.012  \n",
       "140                  Consistent             0.003  \n",
       "141                   Improving             0.085  \n",
       "142                   Improving             0.027  \n",
       "\n",
       "[143 rows x 23 columns]"
      ]
     },
     "metadata": {},
     "output_type": "display_data"
    }
   ],
   "source": [
    "# join de data\n",
    "\n",
    "data_joined_2 = pd.merge(data_dem_23, data_conflict, on='Country_EN', how='inner')\n",
    "display(data_joined_2)"
   ]
  },
  {
   "cell_type": "markdown",
   "metadata": {},
   "source": [
    "## Visualisatie 1\n",
    "\n",
    "Creeer een scatterplot om de relatie tussen democratie en persvrijheid aan te geven:\n",
    "\n",
    "We set the repository in a way that you can use [Plotly](https://plotly.com/python/) for interactive visualizations.\n",
    "For more information, check [this documentation](https://jupyterbook.org/en/stable/interactive/interactive.html)."
   ]
  },
  {
   "cell_type": "code",
   "execution_count": 11,
   "metadata": {},
   "outputs": [
    {
     "data": {
      "application/vnd.plotly.v1+json": {
       "config": {
        "plotlyServerURL": "https://plot.ly"
       },
       "data": [
        {
         "customdata": [
          [
           "Norway"
          ],
          [
           "New Zealand"
          ],
          [
           "Iceland"
          ],
          [
           "Sweden"
          ],
          [
           "Finland"
          ],
          [
           "Denmark"
          ],
          [
           "Ireland"
          ],
          [
           "Switzerland"
          ],
          [
           "Netherlands"
          ],
          [
           "Taiwan"
          ],
          [
           "Luxembourg"
          ],
          [
           "Germany"
          ],
          [
           "Canada"
          ],
          [
           "Uruguay"
          ],
          [
           "Australia"
          ],
          [
           "Japan"
          ],
          [
           "Costa Rica"
          ],
          [
           "United Kingdom"
          ],
          [
           "Austria"
          ],
          [
           "Mauritius"
          ],
          [
           "Greece"
          ],
          [
           "South Korea"
          ],
          [
           "Spain"
          ],
          [
           "France"
          ],
          [
           "Chile"
          ],
          [
           "Czechia"
          ],
          [
           "Estonia"
          ],
          [
           "Malta"
          ],
          [
           "United States"
          ],
          [
           "Israel"
          ],
          [
           "Portugal"
          ],
          [
           "Slovenia"
          ],
          [
           "Botswana"
          ],
          [
           "Italy"
          ],
          [
           "Belgium"
          ],
          [
           "Latvia"
          ],
          [
           "Cyprus"
          ],
          [
           "Lithuania"
          ],
          [
           "Malaysia"
          ],
          [
           "India"
          ],
          [
           "Poland"
          ],
          [
           "Trinidad and Tobago"
          ],
          [
           "Slovakia"
          ],
          [
           "East Timor"
          ],
          [
           "Jamaica"
          ],
          [
           "South Africa"
          ],
          [
           "Panama"
          ],
          [
           "Suriname"
          ],
          [
           "Hungary"
          ],
          [
           "Brazil"
          ],
          [
           "Montenegro"
          ],
          [
           "Philippines"
          ],
          [
           "Argentina"
          ],
          [
           "Colombia"
          ],
          [
           "Indonesia"
          ],
          [
           "Namibia"
          ],
          [
           "Croatia"
          ],
          [
           "Mongolia"
          ],
          [
           "Romania"
          ],
          [
           "Dominican Republic"
          ],
          [
           "Bulgaria"
          ],
          [
           "Thailand"
          ],
          [
           "Serbia"
          ],
          [
           "Ghana"
          ],
          [
           "Albania"
          ],
          [
           "Guyana"
          ],
          [
           "Moldova"
          ],
          [
           "Singapore"
          ],
          [
           "Sri Lanka"
          ],
          [
           "Lesotho"
          ],
          [
           "Papua New Guinea"
          ],
          [
           "North Macedonia"
          ],
          [
           "Paraguay"
          ],
          [
           "Bangladesh"
          ],
          [
           "Malawi"
          ],
          [
           "Peru"
          ],
          [
           "Zambia"
          ],
          [
           "Liberia"
          ],
          [
           "Fiji"
          ],
          [
           "Bhutan"
          ],
          [
           "Tunisia"
          ],
          [
           "Senegal"
          ],
          [
           "Armenia"
          ],
          [
           "Ecuador"
          ],
          [
           "Tanzania"
          ],
          [
           "Madagascar"
          ],
          [
           "Hong Kong"
          ],
          [
           "Georgia"
          ],
          [
           "Mexico"
          ],
          [
           "Ukraine"
          ],
          [
           "Kenya"
          ],
          [
           "Honduras"
          ],
          [
           "El Salvador"
          ],
          [
           "Benin"
          ],
          [
           "Nepal"
          ],
          [
           "Uganda"
          ],
          [
           "Gambia"
          ],
          [
           "Guatemala"
          ],
          [
           "Sierra Leone"
          ],
          [
           "Nigeria"
          ],
          [
           "Bolivia"
          ],
          [
           "Angola"
          ],
          [
           "Mauritania"
          ],
          [
           "Kyrgyzstan"
          ],
          [
           "Algeria"
          ],
          [
           "Qatar"
          ],
          [
           "Lebanon"
          ],
          [
           "Mozambique"
          ],
          [
           "Kuwait"
          ],
          [
           "Palestine"
          ],
          [
           "Ethiopia"
          ],
          [
           "Rwanda"
          ],
          [
           "Pakistan"
          ],
          [
           "Oman"
          ],
          [
           "Kazakhstan"
          ],
          [
           "Cambodia"
          ],
          [
           "Zimbabwe"
          ],
          [
           "Comoros"
          ],
          [
           "Jordan"
          ],
          [
           "United Arab Emirates"
          ],
          [
           "Togo"
          ],
          [
           "Egypt"
          ],
          [
           "Iraq"
          ],
          [
           "Haiti"
          ],
          [
           "Azerbaijan"
          ],
          [
           "Eswatini"
          ],
          [
           "Burkina Faso"
          ],
          [
           "Djibouti"
          ],
          [
           "Cuba"
          ],
          [
           "Vietnam"
          ],
          [
           "Mali"
          ],
          [
           "Cameroon"
          ],
          [
           "Bahrain"
          ],
          [
           "Guinea-Bissau"
          ],
          [
           "Niger"
          ],
          [
           "Venezuela"
          ],
          [
           "Nicaragua"
          ],
          [
           "Russia"
          ],
          [
           "Guinea"
          ],
          [
           "Gabon"
          ],
          [
           "Burundi"
          ],
          [
           "China"
          ]
         ],
         "hovertemplate": "ranking=%{x}<br>Rank=%{y}<br>Country_EN=%{customdata[0]}<extra></extra>",
         "legendgroup": "",
         "marker": {
          "color": "#636efa",
          "symbol": "circle"
         },
         "mode": "markers",
         "name": "",
         "orientation": "v",
         "showlegend": false,
         "type": "scatter",
         "x": [
          1,
          2,
          3,
          4,
          5,
          6,
          7,
          8,
          9,
          10,
          11,
          12,
          13,
          14,
          14,
          16,
          17,
          18,
          18,
          20,
          20,
          22,
          23,
          23,
          25,
          26,
          27,
          28,
          29,
          30,
          31,
          31,
          33,
          34,
          36,
          39,
          39,
          41,
          42,
          43,
          43,
          45,
          46,
          47,
          47,
          49,
          50,
          51,
          52,
          53,
          54,
          55,
          56,
          57,
          58,
          59,
          60,
          61,
          62,
          63,
          64,
          65,
          66,
          67,
          68,
          69,
          70,
          71,
          72,
          74,
          75,
          75,
          77,
          78,
          79,
          80,
          81,
          84,
          85,
          86,
          87,
          88,
          89,
          90,
          91,
          92,
          93,
          94,
          95,
          96,
          97,
          100,
          102,
          103,
          104,
          105,
          106,
          106,
          110,
          111,
          113,
          114,
          115,
          116,
          117,
          118,
          119,
          120,
          121,
          122,
          123,
          124,
          125,
          126,
          127,
          128,
          129,
          129,
          129,
          132,
          133,
          134,
          135,
          136,
          137,
          139,
          140,
          141,
          142,
          143,
          144,
          145,
          146,
          147,
          148,
          149,
          150,
          151,
          152,
          153,
          154,
          155
         ],
         "xaxis": "x",
         "y": [
          1,
          13,
          18,
          4,
          5,
          3,
          2,
          12,
          6,
          35,
          20,
          21,
          15,
          52,
          27,
          68,
          23,
          26,
          29,
          63,
          107,
          47,
          36,
          24,
          83,
          14,
          8,
          84,
          45,
          97,
          9,
          50,
          65,
          41,
          31,
          16,
          55,
          7,
          73,
          161,
          57,
          30,
          17,
          10,
          32,
          25,
          69,
          48,
          72,
          92,
          39,
          132,
          40,
          139,
          108,
          22,
          42,
          88,
          53,
          43,
          71,
          106,
          91,
          62,
          96,
          60,
          28,
          129,
          135,
          67,
          59,
          38,
          103,
          163,
          82,
          110,
          87,
          66,
          89,
          90,
          121,
          104,
          49,
          80,
          143,
          101,
          140,
          77,
          128,
          79,
          116,
          169,
          115,
          112,
          95,
          133,
          46,
          127,
          74,
          123,
          117,
          125,
          86,
          122,
          136,
          105,
          119,
          102,
          154,
          156,
          130,
          131,
          150,
          155,
          134,
          147,
          126,
          75,
          146,
          145,
          70,
          166,
          167,
          99,
          151,
          111,
          58,
          162,
          172,
          178,
          113,
          138,
          171,
          78,
          61,
          159,
          158,
          164,
          85,
          94,
          114,
          179
         ],
         "yaxis": "y"
        },
        {
         "hovertemplate": "<b>OLS trendline</b><br>Rank = 0.823956 * ranking + 20.3743<br>R<sup>2</sup>=0.571747<br><br>ranking=%{x}<br>Rank=%{y} <b>(trend)</b><extra></extra>",
         "legendgroup": "",
         "line": {
          "color": "black"
         },
         "marker": {
          "color": "#636efa",
          "symbol": "circle"
         },
         "mode": "lines",
         "name": "",
         "showlegend": false,
         "type": "scatter",
         "x": [
          1,
          2,
          3,
          4,
          5,
          6,
          7,
          8,
          9,
          10,
          11,
          12,
          13,
          14,
          14,
          16,
          17,
          18,
          18,
          20,
          20,
          22,
          23,
          23,
          25,
          26,
          27,
          28,
          29,
          30,
          31,
          31,
          33,
          34,
          36,
          39,
          39,
          41,
          42,
          43,
          43,
          45,
          46,
          47,
          47,
          49,
          50,
          51,
          52,
          53,
          54,
          55,
          56,
          57,
          58,
          59,
          60,
          61,
          62,
          63,
          64,
          65,
          66,
          67,
          68,
          69,
          70,
          71,
          72,
          74,
          75,
          75,
          77,
          78,
          79,
          80,
          81,
          84,
          85,
          86,
          87,
          88,
          89,
          90,
          91,
          92,
          93,
          94,
          95,
          96,
          97,
          100,
          102,
          103,
          104,
          105,
          106,
          106,
          110,
          111,
          113,
          114,
          115,
          116,
          117,
          118,
          119,
          120,
          121,
          122,
          123,
          124,
          125,
          126,
          127,
          128,
          129,
          129,
          129,
          132,
          133,
          134,
          135,
          136,
          137,
          139,
          140,
          141,
          142,
          143,
          144,
          145,
          146,
          147,
          148,
          149,
          150,
          151,
          152,
          153,
          154,
          155
         ],
         "xaxis": "x",
         "y": [
          21.19820772566721,
          22.022163972475127,
          22.84612021928304,
          23.670076466090954,
          24.49403271289887,
          25.317988959706785,
          26.1419452065147,
          26.965901453322616,
          27.789857700130533,
          28.613813946938446,
          29.43777019374636,
          30.261726440554277,
          31.08568268736219,
          31.909638934170104,
          31.909638934170104,
          33.55755142778594,
          34.38150767459385,
          35.205463921401766,
          35.205463921401766,
          36.85337641501759,
          36.85337641501759,
          38.50128890863343,
          39.32524515544134,
          39.32524515544134,
          40.97315764905717,
          41.79711389586508,
          42.621070142673,
          43.445026389480915,
          44.268982636288825,
          45.09293888309674,
          45.91689512990466,
          45.91689512990466,
          47.56480762352049,
          48.388763870328404,
          50.03667636394424,
          52.50854510436798,
          52.50854510436798,
          54.1564575979838,
          54.98041384479173,
          55.80437009159964,
          55.80437009159964,
          57.45228258521547,
          58.27623883202338,
          59.10019507883129,
          59.10019507883129,
          60.748107572447125,
          61.572063819255035,
          62.39602006606296,
          63.21997631287087,
          64.04393255967878,
          64.8678888064867,
          65.69184505329461,
          66.51580130010252,
          67.33975754691045,
          68.16371379371836,
          68.98767004052628,
          69.81162628733419,
          70.6355825341421,
          71.45953878095003,
          72.28349502775794,
          73.10745127456585,
          73.93140752137377,
          74.75536376818168,
          75.57932001498959,
          76.40327626179752,
          77.22723250860543,
          78.05118875541334,
          78.87514500222126,
          79.69910124902917,
          81.347013742645,
          82.17096998945291,
          82.17096998945291,
          83.81888248306875,
          84.64283872987666,
          85.46679497668457,
          86.29075122349249,
          87.1147074703004,
          89.58657621072415,
          90.41053245753206,
          91.23448870433998,
          92.05844495114789,
          92.8824011979558,
          93.70635744476373,
          94.53031369157164,
          95.35426993837955,
          96.17822618518747,
          97.00218243199538,
          97.82613867880329,
          98.65009492561121,
          99.47405117241912,
          100.29800741922703,
          102.76987615965078,
          104.41778865326661,
          105.24174490007452,
          106.06570114688245,
          106.88965739369036,
          107.71361364049827,
          107.71361364049827,
          111.00943862772993,
          111.83339487453784,
          113.48130736815368,
          114.30526361496159,
          115.12921986176951,
          115.95317610857742,
          116.77713235538533,
          117.60108860219326,
          118.42504484900117,
          119.24900109580908,
          120.072957342617,
          120.89691358942491,
          121.72086983623282,
          122.54482608304075,
          123.36878232984866,
          124.19273857665657,
          125.01669482346449,
          125.8406510702724,
          126.66460731708031,
          126.66460731708031,
          126.66460731708031,
          129.13647605750407,
          129.96043230431198,
          130.7843885511199,
          131.6083447979278,
          132.43230104473574,
          133.25625729154365,
          134.90416978515947,
          135.72812603196738,
          136.5520822787753,
          137.37603852558323,
          138.19999477239114,
          139.02395101919905,
          139.84790726600696,
          140.67186351281487,
          141.4958197596228,
          142.31977600643071,
          143.14373225323862,
          143.96768850004653,
          144.79164474685444,
          145.61560099366235,
          146.4395572404703,
          147.2635134872782,
          148.0874697340861
         ],
         "yaxis": "y"
        }
       ],
       "layout": {
        "legend": {
         "tracegroupgap": 0
        },
        "template": {
         "data": {
          "bar": [
           {
            "error_x": {
             "color": "#2a3f5f"
            },
            "error_y": {
             "color": "#2a3f5f"
            },
            "marker": {
             "line": {
              "color": "#E5ECF6",
              "width": 0.5
             },
             "pattern": {
              "fillmode": "overlay",
              "size": 10,
              "solidity": 0.2
             }
            },
            "type": "bar"
           }
          ],
          "barpolar": [
           {
            "marker": {
             "line": {
              "color": "#E5ECF6",
              "width": 0.5
             },
             "pattern": {
              "fillmode": "overlay",
              "size": 10,
              "solidity": 0.2
             }
            },
            "type": "barpolar"
           }
          ],
          "carpet": [
           {
            "aaxis": {
             "endlinecolor": "#2a3f5f",
             "gridcolor": "white",
             "linecolor": "white",
             "minorgridcolor": "white",
             "startlinecolor": "#2a3f5f"
            },
            "baxis": {
             "endlinecolor": "#2a3f5f",
             "gridcolor": "white",
             "linecolor": "white",
             "minorgridcolor": "white",
             "startlinecolor": "#2a3f5f"
            },
            "type": "carpet"
           }
          ],
          "choropleth": [
           {
            "colorbar": {
             "outlinewidth": 0,
             "ticks": ""
            },
            "type": "choropleth"
           }
          ],
          "contour": [
           {
            "colorbar": {
             "outlinewidth": 0,
             "ticks": ""
            },
            "colorscale": [
             [
              0,
              "#0d0887"
             ],
             [
              0.1111111111111111,
              "#46039f"
             ],
             [
              0.2222222222222222,
              "#7201a8"
             ],
             [
              0.3333333333333333,
              "#9c179e"
             ],
             [
              0.4444444444444444,
              "#bd3786"
             ],
             [
              0.5555555555555556,
              "#d8576b"
             ],
             [
              0.6666666666666666,
              "#ed7953"
             ],
             [
              0.7777777777777778,
              "#fb9f3a"
             ],
             [
              0.8888888888888888,
              "#fdca26"
             ],
             [
              1,
              "#f0f921"
             ]
            ],
            "type": "contour"
           }
          ],
          "contourcarpet": [
           {
            "colorbar": {
             "outlinewidth": 0,
             "ticks": ""
            },
            "type": "contourcarpet"
           }
          ],
          "heatmap": [
           {
            "colorbar": {
             "outlinewidth": 0,
             "ticks": ""
            },
            "colorscale": [
             [
              0,
              "#0d0887"
             ],
             [
              0.1111111111111111,
              "#46039f"
             ],
             [
              0.2222222222222222,
              "#7201a8"
             ],
             [
              0.3333333333333333,
              "#9c179e"
             ],
             [
              0.4444444444444444,
              "#bd3786"
             ],
             [
              0.5555555555555556,
              "#d8576b"
             ],
             [
              0.6666666666666666,
              "#ed7953"
             ],
             [
              0.7777777777777778,
              "#fb9f3a"
             ],
             [
              0.8888888888888888,
              "#fdca26"
             ],
             [
              1,
              "#f0f921"
             ]
            ],
            "type": "heatmap"
           }
          ],
          "heatmapgl": [
           {
            "colorbar": {
             "outlinewidth": 0,
             "ticks": ""
            },
            "colorscale": [
             [
              0,
              "#0d0887"
             ],
             [
              0.1111111111111111,
              "#46039f"
             ],
             [
              0.2222222222222222,
              "#7201a8"
             ],
             [
              0.3333333333333333,
              "#9c179e"
             ],
             [
              0.4444444444444444,
              "#bd3786"
             ],
             [
              0.5555555555555556,
              "#d8576b"
             ],
             [
              0.6666666666666666,
              "#ed7953"
             ],
             [
              0.7777777777777778,
              "#fb9f3a"
             ],
             [
              0.8888888888888888,
              "#fdca26"
             ],
             [
              1,
              "#f0f921"
             ]
            ],
            "type": "heatmapgl"
           }
          ],
          "histogram": [
           {
            "marker": {
             "pattern": {
              "fillmode": "overlay",
              "size": 10,
              "solidity": 0.2
             }
            },
            "type": "histogram"
           }
          ],
          "histogram2d": [
           {
            "colorbar": {
             "outlinewidth": 0,
             "ticks": ""
            },
            "colorscale": [
             [
              0,
              "#0d0887"
             ],
             [
              0.1111111111111111,
              "#46039f"
             ],
             [
              0.2222222222222222,
              "#7201a8"
             ],
             [
              0.3333333333333333,
              "#9c179e"
             ],
             [
              0.4444444444444444,
              "#bd3786"
             ],
             [
              0.5555555555555556,
              "#d8576b"
             ],
             [
              0.6666666666666666,
              "#ed7953"
             ],
             [
              0.7777777777777778,
              "#fb9f3a"
             ],
             [
              0.8888888888888888,
              "#fdca26"
             ],
             [
              1,
              "#f0f921"
             ]
            ],
            "type": "histogram2d"
           }
          ],
          "histogram2dcontour": [
           {
            "colorbar": {
             "outlinewidth": 0,
             "ticks": ""
            },
            "colorscale": [
             [
              0,
              "#0d0887"
             ],
             [
              0.1111111111111111,
              "#46039f"
             ],
             [
              0.2222222222222222,
              "#7201a8"
             ],
             [
              0.3333333333333333,
              "#9c179e"
             ],
             [
              0.4444444444444444,
              "#bd3786"
             ],
             [
              0.5555555555555556,
              "#d8576b"
             ],
             [
              0.6666666666666666,
              "#ed7953"
             ],
             [
              0.7777777777777778,
              "#fb9f3a"
             ],
             [
              0.8888888888888888,
              "#fdca26"
             ],
             [
              1,
              "#f0f921"
             ]
            ],
            "type": "histogram2dcontour"
           }
          ],
          "mesh3d": [
           {
            "colorbar": {
             "outlinewidth": 0,
             "ticks": ""
            },
            "type": "mesh3d"
           }
          ],
          "parcoords": [
           {
            "line": {
             "colorbar": {
              "outlinewidth": 0,
              "ticks": ""
             }
            },
            "type": "parcoords"
           }
          ],
          "pie": [
           {
            "automargin": true,
            "type": "pie"
           }
          ],
          "scatter": [
           {
            "fillpattern": {
             "fillmode": "overlay",
             "size": 10,
             "solidity": 0.2
            },
            "type": "scatter"
           }
          ],
          "scatter3d": [
           {
            "line": {
             "colorbar": {
              "outlinewidth": 0,
              "ticks": ""
             }
            },
            "marker": {
             "colorbar": {
              "outlinewidth": 0,
              "ticks": ""
             }
            },
            "type": "scatter3d"
           }
          ],
          "scattercarpet": [
           {
            "marker": {
             "colorbar": {
              "outlinewidth": 0,
              "ticks": ""
             }
            },
            "type": "scattercarpet"
           }
          ],
          "scattergeo": [
           {
            "marker": {
             "colorbar": {
              "outlinewidth": 0,
              "ticks": ""
             }
            },
            "type": "scattergeo"
           }
          ],
          "scattergl": [
           {
            "marker": {
             "colorbar": {
              "outlinewidth": 0,
              "ticks": ""
             }
            },
            "type": "scattergl"
           }
          ],
          "scattermapbox": [
           {
            "marker": {
             "colorbar": {
              "outlinewidth": 0,
              "ticks": ""
             }
            },
            "type": "scattermapbox"
           }
          ],
          "scatterpolar": [
           {
            "marker": {
             "colorbar": {
              "outlinewidth": 0,
              "ticks": ""
             }
            },
            "type": "scatterpolar"
           }
          ],
          "scatterpolargl": [
           {
            "marker": {
             "colorbar": {
              "outlinewidth": 0,
              "ticks": ""
             }
            },
            "type": "scatterpolargl"
           }
          ],
          "scatterternary": [
           {
            "marker": {
             "colorbar": {
              "outlinewidth": 0,
              "ticks": ""
             }
            },
            "type": "scatterternary"
           }
          ],
          "surface": [
           {
            "colorbar": {
             "outlinewidth": 0,
             "ticks": ""
            },
            "colorscale": [
             [
              0,
              "#0d0887"
             ],
             [
              0.1111111111111111,
              "#46039f"
             ],
             [
              0.2222222222222222,
              "#7201a8"
             ],
             [
              0.3333333333333333,
              "#9c179e"
             ],
             [
              0.4444444444444444,
              "#bd3786"
             ],
             [
              0.5555555555555556,
              "#d8576b"
             ],
             [
              0.6666666666666666,
              "#ed7953"
             ],
             [
              0.7777777777777778,
              "#fb9f3a"
             ],
             [
              0.8888888888888888,
              "#fdca26"
             ],
             [
              1,
              "#f0f921"
             ]
            ],
            "type": "surface"
           }
          ],
          "table": [
           {
            "cells": {
             "fill": {
              "color": "#EBF0F8"
             },
             "line": {
              "color": "white"
             }
            },
            "header": {
             "fill": {
              "color": "#C8D4E3"
             },
             "line": {
              "color": "white"
             }
            },
            "type": "table"
           }
          ]
         },
         "layout": {
          "annotationdefaults": {
           "arrowcolor": "#2a3f5f",
           "arrowhead": 0,
           "arrowwidth": 1
          },
          "autotypenumbers": "strict",
          "coloraxis": {
           "colorbar": {
            "outlinewidth": 0,
            "ticks": ""
           }
          },
          "colorscale": {
           "diverging": [
            [
             0,
             "#8e0152"
            ],
            [
             0.1,
             "#c51b7d"
            ],
            [
             0.2,
             "#de77ae"
            ],
            [
             0.3,
             "#f1b6da"
            ],
            [
             0.4,
             "#fde0ef"
            ],
            [
             0.5,
             "#f7f7f7"
            ],
            [
             0.6,
             "#e6f5d0"
            ],
            [
             0.7,
             "#b8e186"
            ],
            [
             0.8,
             "#7fbc41"
            ],
            [
             0.9,
             "#4d9221"
            ],
            [
             1,
             "#276419"
            ]
           ],
           "sequential": [
            [
             0,
             "#0d0887"
            ],
            [
             0.1111111111111111,
             "#46039f"
            ],
            [
             0.2222222222222222,
             "#7201a8"
            ],
            [
             0.3333333333333333,
             "#9c179e"
            ],
            [
             0.4444444444444444,
             "#bd3786"
            ],
            [
             0.5555555555555556,
             "#d8576b"
            ],
            [
             0.6666666666666666,
             "#ed7953"
            ],
            [
             0.7777777777777778,
             "#fb9f3a"
            ],
            [
             0.8888888888888888,
             "#fdca26"
            ],
            [
             1,
             "#f0f921"
            ]
           ],
           "sequentialminus": [
            [
             0,
             "#0d0887"
            ],
            [
             0.1111111111111111,
             "#46039f"
            ],
            [
             0.2222222222222222,
             "#7201a8"
            ],
            [
             0.3333333333333333,
             "#9c179e"
            ],
            [
             0.4444444444444444,
             "#bd3786"
            ],
            [
             0.5555555555555556,
             "#d8576b"
            ],
            [
             0.6666666666666666,
             "#ed7953"
            ],
            [
             0.7777777777777778,
             "#fb9f3a"
            ],
            [
             0.8888888888888888,
             "#fdca26"
            ],
            [
             1,
             "#f0f921"
            ]
           ]
          },
          "colorway": [
           "#636efa",
           "#EF553B",
           "#00cc96",
           "#ab63fa",
           "#FFA15A",
           "#19d3f3",
           "#FF6692",
           "#B6E880",
           "#FF97FF",
           "#FECB52"
          ],
          "font": {
           "color": "#2a3f5f"
          },
          "geo": {
           "bgcolor": "white",
           "lakecolor": "white",
           "landcolor": "#E5ECF6",
           "showlakes": true,
           "showland": true,
           "subunitcolor": "white"
          },
          "hoverlabel": {
           "align": "left"
          },
          "hovermode": "closest",
          "mapbox": {
           "style": "light"
          },
          "paper_bgcolor": "white",
          "plot_bgcolor": "#E5ECF6",
          "polar": {
           "angularaxis": {
            "gridcolor": "white",
            "linecolor": "white",
            "ticks": ""
           },
           "bgcolor": "#E5ECF6",
           "radialaxis": {
            "gridcolor": "white",
            "linecolor": "white",
            "ticks": ""
           }
          },
          "scene": {
           "xaxis": {
            "backgroundcolor": "#E5ECF6",
            "gridcolor": "white",
            "gridwidth": 2,
            "linecolor": "white",
            "showbackground": true,
            "ticks": "",
            "zerolinecolor": "white"
           },
           "yaxis": {
            "backgroundcolor": "#E5ECF6",
            "gridcolor": "white",
            "gridwidth": 2,
            "linecolor": "white",
            "showbackground": true,
            "ticks": "",
            "zerolinecolor": "white"
           },
           "zaxis": {
            "backgroundcolor": "#E5ECF6",
            "gridcolor": "white",
            "gridwidth": 2,
            "linecolor": "white",
            "showbackground": true,
            "ticks": "",
            "zerolinecolor": "white"
           }
          },
          "shapedefaults": {
           "line": {
            "color": "#2a3f5f"
           }
          },
          "ternary": {
           "aaxis": {
            "gridcolor": "white",
            "linecolor": "white",
            "ticks": ""
           },
           "baxis": {
            "gridcolor": "white",
            "linecolor": "white",
            "ticks": ""
           },
           "bgcolor": "#E5ECF6",
           "caxis": {
            "gridcolor": "white",
            "linecolor": "white",
            "ticks": ""
           }
          },
          "title": {
           "x": 0.05
          },
          "xaxis": {
           "automargin": true,
           "gridcolor": "white",
           "linecolor": "white",
           "ticks": "",
           "title": {
            "standoff": 15
           },
           "zerolinecolor": "white",
           "zerolinewidth": 2
          },
          "yaxis": {
           "automargin": true,
           "gridcolor": "white",
           "linecolor": "white",
           "ticks": "",
           "title": {
            "standoff": 15
           },
           "zerolinecolor": "white",
           "zerolinewidth": 2
          }
         }
        },
        "title": {
         "text": "Democracy index ranking vs Press freedom index ranking 2023 "
        },
        "xaxis": {
         "anchor": "y",
         "domain": [
          0,
          1
         ],
         "title": {
          "text": "Democracy index ranking 2023"
         }
        },
        "yaxis": {
         "anchor": "x",
         "domain": [
          0,
          1
         ],
         "title": {
          "text": "Press freedom index ranking 2023"
         }
        }
       }
      },
      "text/html": [
       "<div>                            <div id=\"811f7209-a781-4b6d-8dae-b35ab895609c\" class=\"plotly-graph-div\" style=\"height:525px; width:100%;\"></div>            <script type=\"text/javascript\">                require([\"plotly\"], function(Plotly) {                    window.PLOTLYENV=window.PLOTLYENV || {};                                    if (document.getElementById(\"811f7209-a781-4b6d-8dae-b35ab895609c\")) {                    Plotly.newPlot(                        \"811f7209-a781-4b6d-8dae-b35ab895609c\",                        [{\"customdata\":[[\"Norway\"],[\"New Zealand\"],[\"Iceland\"],[\"Sweden\"],[\"Finland\"],[\"Denmark\"],[\"Ireland\"],[\"Switzerland\"],[\"Netherlands\"],[\"Taiwan\"],[\"Luxembourg\"],[\"Germany\"],[\"Canada\"],[\"Uruguay\"],[\"Australia\"],[\"Japan\"],[\"Costa Rica\"],[\"United Kingdom\"],[\"Austria\"],[\"Mauritius\"],[\"Greece\"],[\"South Korea\"],[\"Spain\"],[\"France\"],[\"Chile\"],[\"Czechia\"],[\"Estonia\"],[\"Malta\"],[\"United States\"],[\"Israel\"],[\"Portugal\"],[\"Slovenia\"],[\"Botswana\"],[\"Italy\"],[\"Belgium\"],[\"Latvia\"],[\"Cyprus\"],[\"Lithuania\"],[\"Malaysia\"],[\"India\"],[\"Poland\"],[\"Trinidad and Tobago\"],[\"Slovakia\"],[\"East Timor\"],[\"Jamaica\"],[\"South Africa\"],[\"Panama\"],[\"Suriname\"],[\"Hungary\"],[\"Brazil\"],[\"Montenegro\"],[\"Philippines\"],[\"Argentina\"],[\"Colombia\"],[\"Indonesia\"],[\"Namibia\"],[\"Croatia\"],[\"Mongolia\"],[\"Romania\"],[\"Dominican Republic\"],[\"Bulgaria\"],[\"Thailand\"],[\"Serbia\"],[\"Ghana\"],[\"Albania\"],[\"Guyana\"],[\"Moldova\"],[\"Singapore\"],[\"Sri Lanka\"],[\"Lesotho\"],[\"Papua New Guinea\"],[\"North Macedonia\"],[\"Paraguay\"],[\"Bangladesh\"],[\"Malawi\"],[\"Peru\"],[\"Zambia\"],[\"Liberia\"],[\"Fiji\"],[\"Bhutan\"],[\"Tunisia\"],[\"Senegal\"],[\"Armenia\"],[\"Ecuador\"],[\"Tanzania\"],[\"Madagascar\"],[\"Hong Kong\"],[\"Georgia\"],[\"Mexico\"],[\"Ukraine\"],[\"Kenya\"],[\"Honduras\"],[\"El Salvador\"],[\"Benin\"],[\"Nepal\"],[\"Uganda\"],[\"Gambia\"],[\"Guatemala\"],[\"Sierra Leone\"],[\"Nigeria\"],[\"Bolivia\"],[\"Angola\"],[\"Mauritania\"],[\"Kyrgyzstan\"],[\"Algeria\"],[\"Qatar\"],[\"Lebanon\"],[\"Mozambique\"],[\"Kuwait\"],[\"Palestine\"],[\"Ethiopia\"],[\"Rwanda\"],[\"Pakistan\"],[\"Oman\"],[\"Kazakhstan\"],[\"Cambodia\"],[\"Zimbabwe\"],[\"Comoros\"],[\"Jordan\"],[\"United Arab Emirates\"],[\"Togo\"],[\"Egypt\"],[\"Iraq\"],[\"Haiti\"],[\"Azerbaijan\"],[\"Eswatini\"],[\"Burkina Faso\"],[\"Djibouti\"],[\"Cuba\"],[\"Vietnam\"],[\"Mali\"],[\"Cameroon\"],[\"Bahrain\"],[\"Guinea-Bissau\"],[\"Niger\"],[\"Venezuela\"],[\"Nicaragua\"],[\"Russia\"],[\"Guinea\"],[\"Gabon\"],[\"Burundi\"],[\"China\"]],\"hovertemplate\":\"ranking=%{x}<br>Rank=%{y}<br>Country_EN=%{customdata[0]}<extra></extra>\",\"legendgroup\":\"\",\"marker\":{\"color\":\"#636efa\",\"symbol\":\"circle\"},\"mode\":\"markers\",\"name\":\"\",\"orientation\":\"v\",\"showlegend\":false,\"x\":[1,2,3,4,5,6,7,8,9,10,11,12,13,14,14,16,17,18,18,20,20,22,23,23,25,26,27,28,29,30,31,31,33,34,36,39,39,41,42,43,43,45,46,47,47,49,50,51,52,53,54,55,56,57,58,59,60,61,62,63,64,65,66,67,68,69,70,71,72,74,75,75,77,78,79,80,81,84,85,86,87,88,89,90,91,92,93,94,95,96,97,100,102,103,104,105,106,106,110,111,113,114,115,116,117,118,119,120,121,122,123,124,125,126,127,128,129,129,129,132,133,134,135,136,137,139,140,141,142,143,144,145,146,147,148,149,150,151,152,153,154,155],\"xaxis\":\"x\",\"y\":[1,13,18,4,5,3,2,12,6,35,20,21,15,52,27,68,23,26,29,63,107,47,36,24,83,14,8,84,45,97,9,50,65,41,31,16,55,7,73,161,57,30,17,10,32,25,69,48,72,92,39,132,40,139,108,22,42,88,53,43,71,106,91,62,96,60,28,129,135,67,59,38,103,163,82,110,87,66,89,90,121,104,49,80,143,101,140,77,128,79,116,169,115,112,95,133,46,127,74,123,117,125,86,122,136,105,119,102,154,156,130,131,150,155,134,147,126,75,146,145,70,166,167,99,151,111,58,162,172,178,113,138,171,78,61,159,158,164,85,94,114,179],\"yaxis\":\"y\",\"type\":\"scatter\"},{\"hovertemplate\":\"<b>OLS trendline</b><br>Rank = 0.823956 * ranking + 20.3743<br>R<sup>2</sup>=0.571747<br><br>ranking=%{x}<br>Rank=%{y} <b>(trend)</b><extra></extra>\",\"legendgroup\":\"\",\"marker\":{\"color\":\"#636efa\",\"symbol\":\"circle\"},\"mode\":\"lines\",\"name\":\"\",\"showlegend\":false,\"x\":[1,2,3,4,5,6,7,8,9,10,11,12,13,14,14,16,17,18,18,20,20,22,23,23,25,26,27,28,29,30,31,31,33,34,36,39,39,41,42,43,43,45,46,47,47,49,50,51,52,53,54,55,56,57,58,59,60,61,62,63,64,65,66,67,68,69,70,71,72,74,75,75,77,78,79,80,81,84,85,86,87,88,89,90,91,92,93,94,95,96,97,100,102,103,104,105,106,106,110,111,113,114,115,116,117,118,119,120,121,122,123,124,125,126,127,128,129,129,129,132,133,134,135,136,137,139,140,141,142,143,144,145,146,147,148,149,150,151,152,153,154,155],\"xaxis\":\"x\",\"y\":[21.19820772566721,22.022163972475127,22.84612021928304,23.670076466090954,24.49403271289887,25.317988959706785,26.1419452065147,26.965901453322616,27.789857700130533,28.613813946938446,29.43777019374636,30.261726440554277,31.08568268736219,31.909638934170104,31.909638934170104,33.55755142778594,34.38150767459385,35.205463921401766,35.205463921401766,36.85337641501759,36.85337641501759,38.50128890863343,39.32524515544134,39.32524515544134,40.97315764905717,41.79711389586508,42.621070142673,43.445026389480915,44.268982636288825,45.09293888309674,45.91689512990466,45.91689512990466,47.56480762352049,48.388763870328404,50.03667636394424,52.50854510436798,52.50854510436798,54.1564575979838,54.98041384479173,55.80437009159964,55.80437009159964,57.45228258521547,58.27623883202338,59.10019507883129,59.10019507883129,60.748107572447125,61.572063819255035,62.39602006606296,63.21997631287087,64.04393255967878,64.8678888064867,65.69184505329461,66.51580130010252,67.33975754691045,68.16371379371836,68.98767004052628,69.81162628733419,70.6355825341421,71.45953878095003,72.28349502775794,73.10745127456585,73.93140752137377,74.75536376818168,75.57932001498959,76.40327626179752,77.22723250860543,78.05118875541334,78.87514500222126,79.69910124902917,81.347013742645,82.17096998945291,82.17096998945291,83.81888248306875,84.64283872987666,85.46679497668457,86.29075122349249,87.1147074703004,89.58657621072415,90.41053245753206,91.23448870433998,92.05844495114789,92.8824011979558,93.70635744476373,94.53031369157164,95.35426993837955,96.17822618518747,97.00218243199538,97.82613867880329,98.65009492561121,99.47405117241912,100.29800741922703,102.76987615965078,104.41778865326661,105.24174490007452,106.06570114688245,106.88965739369036,107.71361364049827,107.71361364049827,111.00943862772993,111.83339487453784,113.48130736815368,114.30526361496159,115.12921986176951,115.95317610857742,116.77713235538533,117.60108860219326,118.42504484900117,119.24900109580908,120.072957342617,120.89691358942491,121.72086983623282,122.54482608304075,123.36878232984866,124.19273857665657,125.01669482346449,125.8406510702724,126.66460731708031,126.66460731708031,126.66460731708031,129.13647605750407,129.96043230431198,130.7843885511199,131.6083447979278,132.43230104473574,133.25625729154365,134.90416978515947,135.72812603196738,136.5520822787753,137.37603852558323,138.19999477239114,139.02395101919905,139.84790726600696,140.67186351281487,141.4958197596228,142.31977600643071,143.14373225323862,143.96768850004653,144.79164474685444,145.61560099366235,146.4395572404703,147.2635134872782,148.0874697340861],\"yaxis\":\"y\",\"type\":\"scatter\",\"line\":{\"color\":\"black\"}}],                        {\"template\":{\"data\":{\"histogram2dcontour\":[{\"type\":\"histogram2dcontour\",\"colorbar\":{\"outlinewidth\":0,\"ticks\":\"\"},\"colorscale\":[[0.0,\"#0d0887\"],[0.1111111111111111,\"#46039f\"],[0.2222222222222222,\"#7201a8\"],[0.3333333333333333,\"#9c179e\"],[0.4444444444444444,\"#bd3786\"],[0.5555555555555556,\"#d8576b\"],[0.6666666666666666,\"#ed7953\"],[0.7777777777777778,\"#fb9f3a\"],[0.8888888888888888,\"#fdca26\"],[1.0,\"#f0f921\"]]}],\"choropleth\":[{\"type\":\"choropleth\",\"colorbar\":{\"outlinewidth\":0,\"ticks\":\"\"}}],\"histogram2d\":[{\"type\":\"histogram2d\",\"colorbar\":{\"outlinewidth\":0,\"ticks\":\"\"},\"colorscale\":[[0.0,\"#0d0887\"],[0.1111111111111111,\"#46039f\"],[0.2222222222222222,\"#7201a8\"],[0.3333333333333333,\"#9c179e\"],[0.4444444444444444,\"#bd3786\"],[0.5555555555555556,\"#d8576b\"],[0.6666666666666666,\"#ed7953\"],[0.7777777777777778,\"#fb9f3a\"],[0.8888888888888888,\"#fdca26\"],[1.0,\"#f0f921\"]]}],\"heatmap\":[{\"type\":\"heatmap\",\"colorbar\":{\"outlinewidth\":0,\"ticks\":\"\"},\"colorscale\":[[0.0,\"#0d0887\"],[0.1111111111111111,\"#46039f\"],[0.2222222222222222,\"#7201a8\"],[0.3333333333333333,\"#9c179e\"],[0.4444444444444444,\"#bd3786\"],[0.5555555555555556,\"#d8576b\"],[0.6666666666666666,\"#ed7953\"],[0.7777777777777778,\"#fb9f3a\"],[0.8888888888888888,\"#fdca26\"],[1.0,\"#f0f921\"]]}],\"heatmapgl\":[{\"type\":\"heatmapgl\",\"colorbar\":{\"outlinewidth\":0,\"ticks\":\"\"},\"colorscale\":[[0.0,\"#0d0887\"],[0.1111111111111111,\"#46039f\"],[0.2222222222222222,\"#7201a8\"],[0.3333333333333333,\"#9c179e\"],[0.4444444444444444,\"#bd3786\"],[0.5555555555555556,\"#d8576b\"],[0.6666666666666666,\"#ed7953\"],[0.7777777777777778,\"#fb9f3a\"],[0.8888888888888888,\"#fdca26\"],[1.0,\"#f0f921\"]]}],\"contourcarpet\":[{\"type\":\"contourcarpet\",\"colorbar\":{\"outlinewidth\":0,\"ticks\":\"\"}}],\"contour\":[{\"type\":\"contour\",\"colorbar\":{\"outlinewidth\":0,\"ticks\":\"\"},\"colorscale\":[[0.0,\"#0d0887\"],[0.1111111111111111,\"#46039f\"],[0.2222222222222222,\"#7201a8\"],[0.3333333333333333,\"#9c179e\"],[0.4444444444444444,\"#bd3786\"],[0.5555555555555556,\"#d8576b\"],[0.6666666666666666,\"#ed7953\"],[0.7777777777777778,\"#fb9f3a\"],[0.8888888888888888,\"#fdca26\"],[1.0,\"#f0f921\"]]}],\"surface\":[{\"type\":\"surface\",\"colorbar\":{\"outlinewidth\":0,\"ticks\":\"\"},\"colorscale\":[[0.0,\"#0d0887\"],[0.1111111111111111,\"#46039f\"],[0.2222222222222222,\"#7201a8\"],[0.3333333333333333,\"#9c179e\"],[0.4444444444444444,\"#bd3786\"],[0.5555555555555556,\"#d8576b\"],[0.6666666666666666,\"#ed7953\"],[0.7777777777777778,\"#fb9f3a\"],[0.8888888888888888,\"#fdca26\"],[1.0,\"#f0f921\"]]}],\"mesh3d\":[{\"type\":\"mesh3d\",\"colorbar\":{\"outlinewidth\":0,\"ticks\":\"\"}}],\"scatter\":[{\"fillpattern\":{\"fillmode\":\"overlay\",\"size\":10,\"solidity\":0.2},\"type\":\"scatter\"}],\"parcoords\":[{\"type\":\"parcoords\",\"line\":{\"colorbar\":{\"outlinewidth\":0,\"ticks\":\"\"}}}],\"scatterpolargl\":[{\"type\":\"scatterpolargl\",\"marker\":{\"colorbar\":{\"outlinewidth\":0,\"ticks\":\"\"}}}],\"bar\":[{\"error_x\":{\"color\":\"#2a3f5f\"},\"error_y\":{\"color\":\"#2a3f5f\"},\"marker\":{\"line\":{\"color\":\"#E5ECF6\",\"width\":0.5},\"pattern\":{\"fillmode\":\"overlay\",\"size\":10,\"solidity\":0.2}},\"type\":\"bar\"}],\"scattergeo\":[{\"type\":\"scattergeo\",\"marker\":{\"colorbar\":{\"outlinewidth\":0,\"ticks\":\"\"}}}],\"scatterpolar\":[{\"type\":\"scatterpolar\",\"marker\":{\"colorbar\":{\"outlinewidth\":0,\"ticks\":\"\"}}}],\"histogram\":[{\"marker\":{\"pattern\":{\"fillmode\":\"overlay\",\"size\":10,\"solidity\":0.2}},\"type\":\"histogram\"}],\"scattergl\":[{\"type\":\"scattergl\",\"marker\":{\"colorbar\":{\"outlinewidth\":0,\"ticks\":\"\"}}}],\"scatter3d\":[{\"type\":\"scatter3d\",\"line\":{\"colorbar\":{\"outlinewidth\":0,\"ticks\":\"\"}},\"marker\":{\"colorbar\":{\"outlinewidth\":0,\"ticks\":\"\"}}}],\"scattermapbox\":[{\"type\":\"scattermapbox\",\"marker\":{\"colorbar\":{\"outlinewidth\":0,\"ticks\":\"\"}}}],\"scatterternary\":[{\"type\":\"scatterternary\",\"marker\":{\"colorbar\":{\"outlinewidth\":0,\"ticks\":\"\"}}}],\"scattercarpet\":[{\"type\":\"scattercarpet\",\"marker\":{\"colorbar\":{\"outlinewidth\":0,\"ticks\":\"\"}}}],\"carpet\":[{\"aaxis\":{\"endlinecolor\":\"#2a3f5f\",\"gridcolor\":\"white\",\"linecolor\":\"white\",\"minorgridcolor\":\"white\",\"startlinecolor\":\"#2a3f5f\"},\"baxis\":{\"endlinecolor\":\"#2a3f5f\",\"gridcolor\":\"white\",\"linecolor\":\"white\",\"minorgridcolor\":\"white\",\"startlinecolor\":\"#2a3f5f\"},\"type\":\"carpet\"}],\"table\":[{\"cells\":{\"fill\":{\"color\":\"#EBF0F8\"},\"line\":{\"color\":\"white\"}},\"header\":{\"fill\":{\"color\":\"#C8D4E3\"},\"line\":{\"color\":\"white\"}},\"type\":\"table\"}],\"barpolar\":[{\"marker\":{\"line\":{\"color\":\"#E5ECF6\",\"width\":0.5},\"pattern\":{\"fillmode\":\"overlay\",\"size\":10,\"solidity\":0.2}},\"type\":\"barpolar\"}],\"pie\":[{\"automargin\":true,\"type\":\"pie\"}]},\"layout\":{\"autotypenumbers\":\"strict\",\"colorway\":[\"#636efa\",\"#EF553B\",\"#00cc96\",\"#ab63fa\",\"#FFA15A\",\"#19d3f3\",\"#FF6692\",\"#B6E880\",\"#FF97FF\",\"#FECB52\"],\"font\":{\"color\":\"#2a3f5f\"},\"hovermode\":\"closest\",\"hoverlabel\":{\"align\":\"left\"},\"paper_bgcolor\":\"white\",\"plot_bgcolor\":\"#E5ECF6\",\"polar\":{\"bgcolor\":\"#E5ECF6\",\"angularaxis\":{\"gridcolor\":\"white\",\"linecolor\":\"white\",\"ticks\":\"\"},\"radialaxis\":{\"gridcolor\":\"white\",\"linecolor\":\"white\",\"ticks\":\"\"}},\"ternary\":{\"bgcolor\":\"#E5ECF6\",\"aaxis\":{\"gridcolor\":\"white\",\"linecolor\":\"white\",\"ticks\":\"\"},\"baxis\":{\"gridcolor\":\"white\",\"linecolor\":\"white\",\"ticks\":\"\"},\"caxis\":{\"gridcolor\":\"white\",\"linecolor\":\"white\",\"ticks\":\"\"}},\"coloraxis\":{\"colorbar\":{\"outlinewidth\":0,\"ticks\":\"\"}},\"colorscale\":{\"sequential\":[[0.0,\"#0d0887\"],[0.1111111111111111,\"#46039f\"],[0.2222222222222222,\"#7201a8\"],[0.3333333333333333,\"#9c179e\"],[0.4444444444444444,\"#bd3786\"],[0.5555555555555556,\"#d8576b\"],[0.6666666666666666,\"#ed7953\"],[0.7777777777777778,\"#fb9f3a\"],[0.8888888888888888,\"#fdca26\"],[1.0,\"#f0f921\"]],\"sequentialminus\":[[0.0,\"#0d0887\"],[0.1111111111111111,\"#46039f\"],[0.2222222222222222,\"#7201a8\"],[0.3333333333333333,\"#9c179e\"],[0.4444444444444444,\"#bd3786\"],[0.5555555555555556,\"#d8576b\"],[0.6666666666666666,\"#ed7953\"],[0.7777777777777778,\"#fb9f3a\"],[0.8888888888888888,\"#fdca26\"],[1.0,\"#f0f921\"]],\"diverging\":[[0,\"#8e0152\"],[0.1,\"#c51b7d\"],[0.2,\"#de77ae\"],[0.3,\"#f1b6da\"],[0.4,\"#fde0ef\"],[0.5,\"#f7f7f7\"],[0.6,\"#e6f5d0\"],[0.7,\"#b8e186\"],[0.8,\"#7fbc41\"],[0.9,\"#4d9221\"],[1,\"#276419\"]]},\"xaxis\":{\"gridcolor\":\"white\",\"linecolor\":\"white\",\"ticks\":\"\",\"title\":{\"standoff\":15},\"zerolinecolor\":\"white\",\"automargin\":true,\"zerolinewidth\":2},\"yaxis\":{\"gridcolor\":\"white\",\"linecolor\":\"white\",\"ticks\":\"\",\"title\":{\"standoff\":15},\"zerolinecolor\":\"white\",\"automargin\":true,\"zerolinewidth\":2},\"scene\":{\"xaxis\":{\"backgroundcolor\":\"#E5ECF6\",\"gridcolor\":\"white\",\"linecolor\":\"white\",\"showbackground\":true,\"ticks\":\"\",\"zerolinecolor\":\"white\",\"gridwidth\":2},\"yaxis\":{\"backgroundcolor\":\"#E5ECF6\",\"gridcolor\":\"white\",\"linecolor\":\"white\",\"showbackground\":true,\"ticks\":\"\",\"zerolinecolor\":\"white\",\"gridwidth\":2},\"zaxis\":{\"backgroundcolor\":\"#E5ECF6\",\"gridcolor\":\"white\",\"linecolor\":\"white\",\"showbackground\":true,\"ticks\":\"\",\"zerolinecolor\":\"white\",\"gridwidth\":2}},\"shapedefaults\":{\"line\":{\"color\":\"#2a3f5f\"}},\"annotationdefaults\":{\"arrowcolor\":\"#2a3f5f\",\"arrowhead\":0,\"arrowwidth\":1},\"geo\":{\"bgcolor\":\"white\",\"landcolor\":\"#E5ECF6\",\"subunitcolor\":\"white\",\"showland\":true,\"showlakes\":true,\"lakecolor\":\"white\"},\"title\":{\"x\":0.05},\"mapbox\":{\"style\":\"light\"}}},\"xaxis\":{\"anchor\":\"y\",\"domain\":[0.0,1.0],\"title\":{\"text\":\"Democracy index ranking 2023\"}},\"yaxis\":{\"anchor\":\"x\",\"domain\":[0.0,1.0],\"title\":{\"text\":\"Press freedom index ranking 2023\"}},\"legend\":{\"tracegroupgap\":0},\"title\":{\"text\":\"Democracy index ranking vs Press freedom index ranking 2023 \"}},                        {\"responsive\": true}                    ).then(function(){\n",
       "                            \n",
       "var gd = document.getElementById('811f7209-a781-4b6d-8dae-b35ab895609c');\n",
       "var x = new MutationObserver(function (mutations, observer) {{\n",
       "        var display = window.getComputedStyle(gd).display;\n",
       "        if (!display || display === 'none') {{\n",
       "            console.log([gd, 'removed!']);\n",
       "            Plotly.purge(gd);\n",
       "            observer.disconnect();\n",
       "        }}\n",
       "}});\n",
       "\n",
       "// Listen for the removal of the full notebook cells\n",
       "var notebookContainer = gd.closest('#notebook-container');\n",
       "if (notebookContainer) {{\n",
       "    x.observe(notebookContainer, {childList: true});\n",
       "}}\n",
       "\n",
       "// Listen for the clearing of the current output cell\n",
       "var outputEl = gd.closest('.output');\n",
       "if (outputEl) {{\n",
       "    x.observe(outputEl, {childList: true});\n",
       "}}\n",
       "\n",
       "                        })                };                });            </script>        </div>"
      ]
     },
     "metadata": {},
     "output_type": "display_data"
    }
   ],
   "source": [
    "# creeer een scatterplot om de relatie tussen de democratie en persvrijheid aan te geven per land\n",
    "\n",
    "fig = px.scatter(data_joined, x='ranking', y='Rank', title = 'Democracy index ranking vs Press freedom index ranking 2023 ', hover_data=['Country_EN'], trendline=\"ols\")\n",
    "\n",
    "fig.update_layout(\n",
    "    xaxis_title=\"Democracy index ranking 2023\",\n",
    "    yaxis_title=\"Press freedom index ranking 2023\"\n",
    ")\n",
    "\n",
    "for trace in fig.data:\n",
    "    if trace.mode == \"lines\":\n",
    "        trace.line.color = \"black\"\n",
    "\n",
    "fig.show()"
   ]
  },
  {
   "cell_type": "markdown",
   "metadata": {},
   "source": [
    "## Visualisatie 2\n",
    "\n",
    "Creeer een line chart van de persvrijheid rankings per jaar. Gebruik ctrl+klik om meerdere landen te selecteren"
   ]
  },
  {
   "cell_type": "markdown",
   "metadata": {},
   "source": [
    "You can also plot the data using static visualizations, such as the [seaborn](https://seaborn.pydata.org/#) library."
   ]
  },
  {
   "cell_type": "code",
   "execution_count": 12,
   "metadata": {},
   "outputs": [
    {
     "data": {
      "application/vnd.jupyter.widget-view+json": {
       "model_id": "2ade360e46254aebb8d2688d6c068205",
       "version_major": 2,
       "version_minor": 0
      },
      "text/plain": [
       "SelectMultiple(description='Country', index=(0,), options=('Norway', 'Denmark', 'Sweden', 'Netherlands', 'Finl…"
      ]
     },
     "metadata": {},
     "output_type": "display_data"
    },
    {
     "data": {
      "application/vnd.jupyter.widget-view+json": {
       "model_id": "3a9b16ca0fa44abea162a04837d2285a",
       "version_major": 2,
       "version_minor": 0
      },
      "text/plain": [
       "Output()"
      ]
     },
     "metadata": {},
     "output_type": "display_data"
    }
   ],
   "source": [
    "# Persvrijheid scores -  ctrl + klik om meerdere landen te selecteren\n",
    "\n",
    "# Create a dropdown for country selection\n",
    "country_dropdown = widgets.SelectMultiple(\n",
    "    options= df_combined_19['EN_country'].unique(),\n",
    "    value=[df_combined_19['EN_country'].unique()[0]],\n",
    "    description='Country',\n",
    "    disabled=False\n",
    ")\n",
    "\n",
    "# Function to update the line chart based on selected countries\n",
    "def update_chart(selected_countries):\n",
    "    filtered_df = df_combined_19[df_combined_19['EN_country'].isin(selected_countries)]\n",
    "    fig = px.line(filtered_df, x='Year (N)', y='Rank N', color='EN_country', \n",
    "                  labels={'Democracy_score': 'Democracy Score'}, title='Persvrijheid ranking per land')\n",
    "    fig.update_layout(\n",
    "        xaxis_title=\"Year\",\n",
    "        yaxis_title=\"Persvrijheid rank\"\n",
    "    )\n",
    "    fig.show()\n",
    "\n",
    "# Create an interactive output\n",
    "output = widgets.interactive_output(update_chart, {'selected_countries': country_dropdown})\n",
    "\n",
    "# Display the dropdown and the output\n",
    "display(country_dropdown, output)\n"
   ]
  },
  {
   "cell_type": "markdown",
   "metadata": {},
   "source": [
    "## Visualisatie 3\n",
    "\n",
    "Creeer een line chart van de democratie rankings per jaar. Gebruik ctrl+klik om meerdere landen te selecteren"
   ]
  },
  {
   "cell_type": "code",
   "execution_count": 13,
   "metadata": {},
   "outputs": [
    {
     "data": {
      "application/vnd.jupyter.widget-view+json": {
       "model_id": "a0ba5192418a4a0191e23a99bd5c86d1",
       "version_major": 2,
       "version_minor": 0
      },
      "text/plain": [
       "SelectMultiple(description='Country', index=(0,), options=('Norway', 'New Zealand', 'Iceland', 'Sweden', 'Finl…"
      ]
     },
     "metadata": {},
     "output_type": "display_data"
    },
    {
     "data": {
      "application/vnd.jupyter.widget-view+json": {
       "model_id": "64b044d97f43471698f54f2de83e5e5f",
       "version_major": 2,
       "version_minor": 0
      },
      "text/plain": [
       "Output()"
      ]
     },
     "metadata": {},
     "output_type": "display_data"
    }
   ],
   "source": [
    "# democratie scores -  ctrl + klik om meerdere landen te selecteren\n",
    "\n",
    "# Create a dropdown for country selection\n",
    "country_dropdown = widgets.SelectMultiple(\n",
    "    options= data_dem_combined['Country_EN'].unique(),\n",
    "    value=[data_dem_combined['Country_EN'].unique()[0]],\n",
    "    description='Country',\n",
    "    disabled=False\n",
    ")\n",
    "\n",
    "# Function to update the line chart based on selected countries\n",
    "def update_chart(selected_countries):\n",
    "    filtered_df = data_dem_combined[data_dem_combined['Country_EN'].isin(selected_countries)]\n",
    "    fig = px.line(filtered_df, x='Year', y='ranking', color='Country_EN', \n",
    "                  labels={'Democracy_score': 'Democracy Score'}, title='Democratie ranking per land')\n",
    "    fig.update_layout(\n",
    "        xaxis_title=\"Year\",\n",
    "        yaxis_title=\"Democratie rank\"\n",
    "    )\n",
    "    fig.show()\n",
    "\n",
    "# Create an interactive output\n",
    "output = widgets.interactive_output(update_chart, {'selected_countries': country_dropdown})\n",
    "\n",
    "# Display the dropdown and the output\n",
    "display(country_dropdown, output)"
   ]
  },
  {
   "cell_type": "markdown",
   "metadata": {},
   "source": [
    "## Visualisatie 4"
   ]
  },
  {
   "cell_type": "code",
   "execution_count": 14,
   "metadata": {},
   "outputs": [
    {
     "data": {
      "application/vnd.plotly.v1+json": {
       "config": {
        "plotlyServerURL": "https://plot.ly"
       },
       "data": [
        {
         "customdata": [
          [
           "Norway"
          ],
          [
           "New Zealand"
          ],
          [
           "Iceland"
          ],
          [
           "Sweden"
          ],
          [
           "Finland"
          ],
          [
           "Denmark"
          ],
          [
           "Ireland"
          ],
          [
           "Switzerland"
          ],
          [
           "Netherlands"
          ],
          [
           "Taiwan"
          ],
          [
           "Luxembourg"
          ],
          [
           "Germany"
          ],
          [
           "Canada"
          ],
          [
           "Uruguay"
          ],
          [
           "Australia"
          ],
          [
           "Japan"
          ],
          [
           "Costa Rica"
          ],
          [
           "United Kingdom"
          ],
          [
           "Austria"
          ],
          [
           "Mauritius"
          ],
          [
           "Greece"
          ],
          [
           "South Korea"
          ],
          [
           "Spain"
          ],
          [
           "France"
          ],
          [
           "Chile"
          ],
          [
           "Estonia"
          ],
          [
           "Malta"
          ],
          [
           "United States"
          ],
          [
           "Israel"
          ],
          [
           "Portugal"
          ],
          [
           "Slovenia"
          ],
          [
           "Botswana"
          ],
          [
           "Italy"
          ],
          [
           "Cape Verde"
          ],
          [
           "Belgium"
          ],
          [
           "Latvia"
          ],
          [
           "Cyprus"
          ],
          [
           "Lithuania"
          ],
          [
           "Malaysia"
          ],
          [
           "India"
          ],
          [
           "Poland"
          ],
          [
           "Trinidad and Tobago"
          ],
          [
           "Slovakia"
          ],
          [
           "East Timor"
          ],
          [
           "Jamaica"
          ],
          [
           "South Africa"
          ],
          [
           "Panama"
          ],
          [
           "Suriname"
          ],
          [
           "Hungary"
          ],
          [
           "Brazil"
          ],
          [
           "Montenegro"
          ],
          [
           "Philippines"
          ],
          [
           "Argentina"
          ],
          [
           "Colombia"
          ],
          [
           "Indonesia"
          ],
          [
           "Namibia"
          ],
          [
           "Croatia"
          ],
          [
           "Mongolia"
          ],
          [
           "Romania"
          ],
          [
           "Dominican Republic"
          ],
          [
           "Bulgaria"
          ],
          [
           "Thailand"
          ],
          [
           "Serbia"
          ],
          [
           "Ghana"
          ],
          [
           "Albania"
          ],
          [
           "Guyana"
          ],
          [
           "Moldova"
          ],
          [
           "Singapore"
          ],
          [
           "Sri Lanka"
          ],
          [
           "Lesotho"
          ],
          [
           "Papua New Guinea"
          ],
          [
           "North Macedonia"
          ],
          [
           "Paraguay"
          ],
          [
           "Bangladesh"
          ],
          [
           "Malawi"
          ],
          [
           "Peru"
          ],
          [
           "Zambia"
          ],
          [
           "Liberia"
          ],
          [
           "Fiji"
          ],
          [
           "Bhutan"
          ],
          [
           "Tunisia"
          ],
          [
           "Senegal"
          ],
          [
           "Armenia"
          ],
          [
           "Ecuador"
          ],
          [
           "Tanzania"
          ],
          [
           "Madagascar"
          ],
          [
           "Georgia"
          ],
          [
           "Mexico"
          ],
          [
           "Ukraine"
          ],
          [
           "Kenya"
          ],
          [
           "Morocco"
          ],
          [
           "Bosnia and Herzegovina"
          ],
          [
           "Honduras"
          ],
          [
           "El Salvador"
          ],
          [
           "Benin"
          ],
          [
           "Nepal"
          ],
          [
           "Uganda"
          ],
          [
           "Gambia"
          ],
          [
           "Guatemala"
          ],
          [
           "Turkey"
          ],
          [
           "Sierra Leone"
          ],
          [
           "Nigeria"
          ],
          [
           "Bolivia"
          ],
          [
           "Angola"
          ],
          [
           "Mauritania"
          ],
          [
           "Kyrgyzstan"
          ],
          [
           "Algeria"
          ],
          [
           "Qatar"
          ],
          [
           "Lebanon"
          ],
          [
           "Mozambique"
          ],
          [
           "Kuwait"
          ],
          [
           "Palestine"
          ],
          [
           "Ethiopia"
          ],
          [
           "Rwanda"
          ],
          [
           "Pakistan"
          ],
          [
           "Oman"
          ],
          [
           "Kazakhstan"
          ],
          [
           "Cambodia"
          ],
          [
           "Zimbabwe"
          ],
          [
           "Comoros"
          ],
          [
           "Jordan"
          ],
          [
           "United Arab Emirates"
          ],
          [
           "Togo"
          ],
          [
           "Egypt"
          ],
          [
           "Iraq"
          ],
          [
           "Haiti"
          ],
          [
           "Azerbaijan"
          ],
          [
           "Burkina Faso"
          ],
          [
           "Djibouti"
          ],
          [
           "Cuba"
          ],
          [
           "Vietnam"
          ],
          [
           "Mali"
          ],
          [
           "Cameroon"
          ],
          [
           "Bahrain"
          ],
          [
           "Guinea-Bissau"
          ],
          [
           "Niger"
          ],
          [
           "Venezuela"
          ],
          [
           "Nicaragua"
          ],
          [
           "Russia"
          ],
          [
           "Guinea"
          ],
          [
           "Gabon"
          ],
          [
           "Burundi"
          ],
          [
           "China"
          ]
         ],
         "hovertemplate": "ranking=%{x}<br>Index Ranking 2023=%{y}<br>Country_EN=%{customdata[0]}<extra></extra>",
         "legendgroup": "",
         "marker": {
          "color": "#636efa",
          "symbol": "circle"
         },
         "mode": "markers",
         "name": "",
         "orientation": "v",
         "showlegend": false,
         "type": "scatter",
         "x": [
          1,
          2,
          3,
          4,
          5,
          6,
          7,
          8,
          9,
          10,
          11,
          12,
          13,
          14,
          14,
          16,
          17,
          18,
          18,
          20,
          20,
          22,
          23,
          23,
          25,
          27,
          28,
          29,
          30,
          31,
          31,
          33,
          34,
          35,
          36,
          39,
          39,
          41,
          42,
          43,
          43,
          45,
          46,
          47,
          47,
          49,
          50,
          51,
          52,
          53,
          54,
          55,
          56,
          57,
          58,
          59,
          60,
          61,
          62,
          63,
          64,
          65,
          66,
          67,
          68,
          69,
          70,
          71,
          72,
          74,
          75,
          75,
          77,
          78,
          79,
          80,
          81,
          84,
          85,
          86,
          87,
          88,
          89,
          90,
          91,
          92,
          94,
          95,
          96,
          97,
          98,
          99,
          100,
          102,
          103,
          104,
          105,
          106,
          106,
          109,
          110,
          111,
          113,
          114,
          115,
          116,
          117,
          118,
          119,
          120,
          121,
          122,
          123,
          124,
          125,
          126,
          127,
          128,
          129,
          129,
          129,
          132,
          133,
          134,
          135,
          136,
          137,
          140,
          141,
          142,
          143,
          144,
          145,
          146,
          147,
          148,
          149,
          150,
          151,
          152,
          153,
          154,
          155
         ],
         "xaxis": "x",
         "y": [
          146,
          163,
          146,
          140,
          146,
          163,
          140,
          163,
          125,
          163,
          163,
          79,
          117,
          135,
          163,
          146,
          120,
          113,
          132,
          115,
          59,
          163,
          117,
          61,
          57,
          163,
          143,
          51,
          22,
          163,
          143,
          106,
          96,
          146,
          104,
          163,
          86,
          146,
          146,
          15,
          102,
          30,
          146,
          146,
          21,
          33,
          96,
          122,
          100,
          6,
          135,
          27,
          74,
          7,
          44,
          126,
          163,
          163,
          112,
          84,
          163,
          75,
          120,
          53,
          117,
          108,
          94,
          163,
          76,
          107,
          50,
          131,
          70,
          17,
          62,
          53,
          73,
          78,
          163,
          163,
          101,
          69,
          79,
          40,
          68,
          38,
          103,
          4,
          13,
          19,
          63,
          124,
          20,
          58,
          43,
          56,
          42,
          116,
          24,
          41,
          70,
          5,
          72,
          64,
          83,
          90,
          81,
          163,
          31,
          45,
          163,
          3,
          22,
          95,
          14,
          146,
          84,
          146,
          48,
          109,
          122,
          163,
          77,
          82,
          12,
          8,
          55,
          17,
          127,
          87,
          111,
          15,
          25,
          132,
          88,
          34,
          27,
          89,
          36,
          65,
          105,
          32,
          66
         ],
         "yaxis": "y"
        },
        {
         "hovertemplate": "<b>OLS trendline</b><br>Index Ranking 2023 = -0.472786 * ranking + 126.251<br>R<sup>2</sup>=0.187010<br><br>ranking=%{x}<br>Index Ranking 2023=%{y} <b>(trend)</b><extra></extra>",
         "legendgroup": "",
         "line": {
          "color": "black"
         },
         "marker": {
          "color": "#636efa",
          "symbol": "circle"
         },
         "mode": "lines",
         "name": "",
         "showlegend": false,
         "type": "scatter",
         "x": [
          1,
          2,
          3,
          4,
          5,
          6,
          7,
          8,
          9,
          10,
          11,
          12,
          13,
          14,
          14,
          16,
          17,
          18,
          18,
          20,
          20,
          22,
          23,
          23,
          25,
          27,
          28,
          29,
          30,
          31,
          31,
          33,
          34,
          35,
          36,
          39,
          39,
          41,
          42,
          43,
          43,
          45,
          46,
          47,
          47,
          49,
          50,
          51,
          52,
          53,
          54,
          55,
          56,
          57,
          58,
          59,
          60,
          61,
          62,
          63,
          64,
          65,
          66,
          67,
          68,
          69,
          70,
          71,
          72,
          74,
          75,
          75,
          77,
          78,
          79,
          80,
          81,
          84,
          85,
          86,
          87,
          88,
          89,
          90,
          91,
          92,
          94,
          95,
          96,
          97,
          98,
          99,
          100,
          102,
          103,
          104,
          105,
          106,
          106,
          109,
          110,
          111,
          113,
          114,
          115,
          116,
          117,
          118,
          119,
          120,
          121,
          122,
          123,
          124,
          125,
          126,
          127,
          128,
          129,
          129,
          129,
          132,
          133,
          134,
          135,
          136,
          137,
          140,
          141,
          142,
          143,
          144,
          145,
          146,
          147,
          148,
          149,
          150,
          151,
          152,
          153,
          154,
          155
         ],
         "xaxis": "x",
         "y": [
          125.77803435129728,
          125.3052483175266,
          124.83246228375592,
          124.35967624998524,
          123.88689021621455,
          123.41410418244388,
          122.94131814867319,
          122.46853211490252,
          121.99574608113183,
          121.52296004736115,
          121.05017401359046,
          120.57738797981978,
          120.1046019460491,
          119.63181591227841,
          119.63181591227841,
          118.68624384473705,
          118.21345781096637,
          117.74067177719569,
          117.74067177719569,
          116.79509970965432,
          116.79509970965432,
          115.84952764211296,
          115.37674160834229,
          115.37674160834229,
          114.43116954080091,
          113.48559747325955,
          113.01281143948887,
          112.54002540571818,
          112.06723937194751,
          111.59445333817682,
          111.59445333817682,
          110.64888127063546,
          110.17609523686477,
          109.7033092030941,
          109.23052316932342,
          107.81216506801137,
          107.81216506801137,
          106.86659300047,
          106.39380696669932,
          105.92102093292864,
          105.92102093292864,
          104.97544886538728,
          104.50266283161659,
          104.0298767978459,
          104.0298767978459,
          103.08430473030455,
          102.61151869653386,
          102.13873266276318,
          101.6659466289925,
          101.19316059522181,
          100.72037456145114,
          100.24758852768045,
          99.77480249390976,
          99.30201646013909,
          98.82923042636841,
          98.35644439259772,
          97.88365835882703,
          97.41087232505636,
          96.93808629128567,
          96.465300257515,
          95.99251422374431,
          95.51972818997363,
          95.04694215620295,
          94.57415612243227,
          94.10137008866158,
          93.6285840548909,
          93.15579802112022,
          92.68301198734954,
          92.21022595357886,
          91.2646538860375,
          90.79186785226682,
          90.79186785226682,
          89.84629578472544,
          89.37350975095475,
          88.90072371718408,
          88.4279376834134,
          87.95515164964272,
          86.53679354833068,
          86.06400751455999,
          85.5912214807893,
          85.11843544701863,
          84.64564941324794,
          84.17286337947726,
          83.70007734570657,
          83.22729131193589,
          82.75450527816521,
          81.80893321062385,
          81.33614717685316,
          80.86336114308249,
          80.39057510931181,
          79.91778907554112,
          79.44500304177043,
          78.97221700799975,
          78.0266449404584,
          77.55385890668771,
          77.08107287291702,
          76.60828683914634,
          76.13550080537567,
          76.13550080537567,
          74.71714270406362,
          74.24435667029294,
          73.77157063652226,
          72.82599856898088,
          72.3532125352102,
          71.88042650143953,
          71.40764046766884,
          70.93485443389815,
          70.46206840012748,
          69.9892823663568,
          69.51649633258612,
          69.04371029881543,
          68.57092426504475,
          68.09813823127406,
          67.62535219750339,
          67.1525661637327,
          66.67978012996201,
          66.20699409619134,
          65.73420806242066,
          65.26142202864997,
          65.26142202864997,
          65.26142202864997,
          63.84306392733793,
          63.37027789356725,
          62.89749185979656,
          62.42470582602588,
          61.9519197922552,
          61.47913375848452,
          60.06077565717247,
          59.58798962340178,
          59.11520358963111,
          58.64241755586042,
          58.169631522089745,
          57.696845488319056,
          57.22405945454838,
          56.75127342077769,
          56.27848738700702,
          55.80570135323633,
          55.332915319465656,
          54.86012928569497,
          54.38734325192428,
          53.914557218153604,
          53.441771184382915,
          52.96898515061224
         ],
         "yaxis": "y"
        }
       ],
       "layout": {
        "legend": {
         "tracegroupgap": 0
        },
        "template": {
         "data": {
          "bar": [
           {
            "error_x": {
             "color": "#2a3f5f"
            },
            "error_y": {
             "color": "#2a3f5f"
            },
            "marker": {
             "line": {
              "color": "#E5ECF6",
              "width": 0.5
             },
             "pattern": {
              "fillmode": "overlay",
              "size": 10,
              "solidity": 0.2
             }
            },
            "type": "bar"
           }
          ],
          "barpolar": [
           {
            "marker": {
             "line": {
              "color": "#E5ECF6",
              "width": 0.5
             },
             "pattern": {
              "fillmode": "overlay",
              "size": 10,
              "solidity": 0.2
             }
            },
            "type": "barpolar"
           }
          ],
          "carpet": [
           {
            "aaxis": {
             "endlinecolor": "#2a3f5f",
             "gridcolor": "white",
             "linecolor": "white",
             "minorgridcolor": "white",
             "startlinecolor": "#2a3f5f"
            },
            "baxis": {
             "endlinecolor": "#2a3f5f",
             "gridcolor": "white",
             "linecolor": "white",
             "minorgridcolor": "white",
             "startlinecolor": "#2a3f5f"
            },
            "type": "carpet"
           }
          ],
          "choropleth": [
           {
            "colorbar": {
             "outlinewidth": 0,
             "ticks": ""
            },
            "type": "choropleth"
           }
          ],
          "contour": [
           {
            "colorbar": {
             "outlinewidth": 0,
             "ticks": ""
            },
            "colorscale": [
             [
              0,
              "#0d0887"
             ],
             [
              0.1111111111111111,
              "#46039f"
             ],
             [
              0.2222222222222222,
              "#7201a8"
             ],
             [
              0.3333333333333333,
              "#9c179e"
             ],
             [
              0.4444444444444444,
              "#bd3786"
             ],
             [
              0.5555555555555556,
              "#d8576b"
             ],
             [
              0.6666666666666666,
              "#ed7953"
             ],
             [
              0.7777777777777778,
              "#fb9f3a"
             ],
             [
              0.8888888888888888,
              "#fdca26"
             ],
             [
              1,
              "#f0f921"
             ]
            ],
            "type": "contour"
           }
          ],
          "contourcarpet": [
           {
            "colorbar": {
             "outlinewidth": 0,
             "ticks": ""
            },
            "type": "contourcarpet"
           }
          ],
          "heatmap": [
           {
            "colorbar": {
             "outlinewidth": 0,
             "ticks": ""
            },
            "colorscale": [
             [
              0,
              "#0d0887"
             ],
             [
              0.1111111111111111,
              "#46039f"
             ],
             [
              0.2222222222222222,
              "#7201a8"
             ],
             [
              0.3333333333333333,
              "#9c179e"
             ],
             [
              0.4444444444444444,
              "#bd3786"
             ],
             [
              0.5555555555555556,
              "#d8576b"
             ],
             [
              0.6666666666666666,
              "#ed7953"
             ],
             [
              0.7777777777777778,
              "#fb9f3a"
             ],
             [
              0.8888888888888888,
              "#fdca26"
             ],
             [
              1,
              "#f0f921"
             ]
            ],
            "type": "heatmap"
           }
          ],
          "heatmapgl": [
           {
            "colorbar": {
             "outlinewidth": 0,
             "ticks": ""
            },
            "colorscale": [
             [
              0,
              "#0d0887"
             ],
             [
              0.1111111111111111,
              "#46039f"
             ],
             [
              0.2222222222222222,
              "#7201a8"
             ],
             [
              0.3333333333333333,
              "#9c179e"
             ],
             [
              0.4444444444444444,
              "#bd3786"
             ],
             [
              0.5555555555555556,
              "#d8576b"
             ],
             [
              0.6666666666666666,
              "#ed7953"
             ],
             [
              0.7777777777777778,
              "#fb9f3a"
             ],
             [
              0.8888888888888888,
              "#fdca26"
             ],
             [
              1,
              "#f0f921"
             ]
            ],
            "type": "heatmapgl"
           }
          ],
          "histogram": [
           {
            "marker": {
             "pattern": {
              "fillmode": "overlay",
              "size": 10,
              "solidity": 0.2
             }
            },
            "type": "histogram"
           }
          ],
          "histogram2d": [
           {
            "colorbar": {
             "outlinewidth": 0,
             "ticks": ""
            },
            "colorscale": [
             [
              0,
              "#0d0887"
             ],
             [
              0.1111111111111111,
              "#46039f"
             ],
             [
              0.2222222222222222,
              "#7201a8"
             ],
             [
              0.3333333333333333,
              "#9c179e"
             ],
             [
              0.4444444444444444,
              "#bd3786"
             ],
             [
              0.5555555555555556,
              "#d8576b"
             ],
             [
              0.6666666666666666,
              "#ed7953"
             ],
             [
              0.7777777777777778,
              "#fb9f3a"
             ],
             [
              0.8888888888888888,
              "#fdca26"
             ],
             [
              1,
              "#f0f921"
             ]
            ],
            "type": "histogram2d"
           }
          ],
          "histogram2dcontour": [
           {
            "colorbar": {
             "outlinewidth": 0,
             "ticks": ""
            },
            "colorscale": [
             [
              0,
              "#0d0887"
             ],
             [
              0.1111111111111111,
              "#46039f"
             ],
             [
              0.2222222222222222,
              "#7201a8"
             ],
             [
              0.3333333333333333,
              "#9c179e"
             ],
             [
              0.4444444444444444,
              "#bd3786"
             ],
             [
              0.5555555555555556,
              "#d8576b"
             ],
             [
              0.6666666666666666,
              "#ed7953"
             ],
             [
              0.7777777777777778,
              "#fb9f3a"
             ],
             [
              0.8888888888888888,
              "#fdca26"
             ],
             [
              1,
              "#f0f921"
             ]
            ],
            "type": "histogram2dcontour"
           }
          ],
          "mesh3d": [
           {
            "colorbar": {
             "outlinewidth": 0,
             "ticks": ""
            },
            "type": "mesh3d"
           }
          ],
          "parcoords": [
           {
            "line": {
             "colorbar": {
              "outlinewidth": 0,
              "ticks": ""
             }
            },
            "type": "parcoords"
           }
          ],
          "pie": [
           {
            "automargin": true,
            "type": "pie"
           }
          ],
          "scatter": [
           {
            "fillpattern": {
             "fillmode": "overlay",
             "size": 10,
             "solidity": 0.2
            },
            "type": "scatter"
           }
          ],
          "scatter3d": [
           {
            "line": {
             "colorbar": {
              "outlinewidth": 0,
              "ticks": ""
             }
            },
            "marker": {
             "colorbar": {
              "outlinewidth": 0,
              "ticks": ""
             }
            },
            "type": "scatter3d"
           }
          ],
          "scattercarpet": [
           {
            "marker": {
             "colorbar": {
              "outlinewidth": 0,
              "ticks": ""
             }
            },
            "type": "scattercarpet"
           }
          ],
          "scattergeo": [
           {
            "marker": {
             "colorbar": {
              "outlinewidth": 0,
              "ticks": ""
             }
            },
            "type": "scattergeo"
           }
          ],
          "scattergl": [
           {
            "marker": {
             "colorbar": {
              "outlinewidth": 0,
              "ticks": ""
             }
            },
            "type": "scattergl"
           }
          ],
          "scattermapbox": [
           {
            "marker": {
             "colorbar": {
              "outlinewidth": 0,
              "ticks": ""
             }
            },
            "type": "scattermapbox"
           }
          ],
          "scatterpolar": [
           {
            "marker": {
             "colorbar": {
              "outlinewidth": 0,
              "ticks": ""
             }
            },
            "type": "scatterpolar"
           }
          ],
          "scatterpolargl": [
           {
            "marker": {
             "colorbar": {
              "outlinewidth": 0,
              "ticks": ""
             }
            },
            "type": "scatterpolargl"
           }
          ],
          "scatterternary": [
           {
            "marker": {
             "colorbar": {
              "outlinewidth": 0,
              "ticks": ""
             }
            },
            "type": "scatterternary"
           }
          ],
          "surface": [
           {
            "colorbar": {
             "outlinewidth": 0,
             "ticks": ""
            },
            "colorscale": [
             [
              0,
              "#0d0887"
             ],
             [
              0.1111111111111111,
              "#46039f"
             ],
             [
              0.2222222222222222,
              "#7201a8"
             ],
             [
              0.3333333333333333,
              "#9c179e"
             ],
             [
              0.4444444444444444,
              "#bd3786"
             ],
             [
              0.5555555555555556,
              "#d8576b"
             ],
             [
              0.6666666666666666,
              "#ed7953"
             ],
             [
              0.7777777777777778,
              "#fb9f3a"
             ],
             [
              0.8888888888888888,
              "#fdca26"
             ],
             [
              1,
              "#f0f921"
             ]
            ],
            "type": "surface"
           }
          ],
          "table": [
           {
            "cells": {
             "fill": {
              "color": "#EBF0F8"
             },
             "line": {
              "color": "white"
             }
            },
            "header": {
             "fill": {
              "color": "#C8D4E3"
             },
             "line": {
              "color": "white"
             }
            },
            "type": "table"
           }
          ]
         },
         "layout": {
          "annotationdefaults": {
           "arrowcolor": "#2a3f5f",
           "arrowhead": 0,
           "arrowwidth": 1
          },
          "autotypenumbers": "strict",
          "coloraxis": {
           "colorbar": {
            "outlinewidth": 0,
            "ticks": ""
           }
          },
          "colorscale": {
           "diverging": [
            [
             0,
             "#8e0152"
            ],
            [
             0.1,
             "#c51b7d"
            ],
            [
             0.2,
             "#de77ae"
            ],
            [
             0.3,
             "#f1b6da"
            ],
            [
             0.4,
             "#fde0ef"
            ],
            [
             0.5,
             "#f7f7f7"
            ],
            [
             0.6,
             "#e6f5d0"
            ],
            [
             0.7,
             "#b8e186"
            ],
            [
             0.8,
             "#7fbc41"
            ],
            [
             0.9,
             "#4d9221"
            ],
            [
             1,
             "#276419"
            ]
           ],
           "sequential": [
            [
             0,
             "#0d0887"
            ],
            [
             0.1111111111111111,
             "#46039f"
            ],
            [
             0.2222222222222222,
             "#7201a8"
            ],
            [
             0.3333333333333333,
             "#9c179e"
            ],
            [
             0.4444444444444444,
             "#bd3786"
            ],
            [
             0.5555555555555556,
             "#d8576b"
            ],
            [
             0.6666666666666666,
             "#ed7953"
            ],
            [
             0.7777777777777778,
             "#fb9f3a"
            ],
            [
             0.8888888888888888,
             "#fdca26"
            ],
            [
             1,
             "#f0f921"
            ]
           ],
           "sequentialminus": [
            [
             0,
             "#0d0887"
            ],
            [
             0.1111111111111111,
             "#46039f"
            ],
            [
             0.2222222222222222,
             "#7201a8"
            ],
            [
             0.3333333333333333,
             "#9c179e"
            ],
            [
             0.4444444444444444,
             "#bd3786"
            ],
            [
             0.5555555555555556,
             "#d8576b"
            ],
            [
             0.6666666666666666,
             "#ed7953"
            ],
            [
             0.7777777777777778,
             "#fb9f3a"
            ],
            [
             0.8888888888888888,
             "#fdca26"
            ],
            [
             1,
             "#f0f921"
            ]
           ]
          },
          "colorway": [
           "#636efa",
           "#EF553B",
           "#00cc96",
           "#ab63fa",
           "#FFA15A",
           "#19d3f3",
           "#FF6692",
           "#B6E880",
           "#FF97FF",
           "#FECB52"
          ],
          "font": {
           "color": "#2a3f5f"
          },
          "geo": {
           "bgcolor": "white",
           "lakecolor": "white",
           "landcolor": "#E5ECF6",
           "showlakes": true,
           "showland": true,
           "subunitcolor": "white"
          },
          "hoverlabel": {
           "align": "left"
          },
          "hovermode": "closest",
          "mapbox": {
           "style": "light"
          },
          "paper_bgcolor": "white",
          "plot_bgcolor": "#E5ECF6",
          "polar": {
           "angularaxis": {
            "gridcolor": "white",
            "linecolor": "white",
            "ticks": ""
           },
           "bgcolor": "#E5ECF6",
           "radialaxis": {
            "gridcolor": "white",
            "linecolor": "white",
            "ticks": ""
           }
          },
          "scene": {
           "xaxis": {
            "backgroundcolor": "#E5ECF6",
            "gridcolor": "white",
            "gridwidth": 2,
            "linecolor": "white",
            "showbackground": true,
            "ticks": "",
            "zerolinecolor": "white"
           },
           "yaxis": {
            "backgroundcolor": "#E5ECF6",
            "gridcolor": "white",
            "gridwidth": 2,
            "linecolor": "white",
            "showbackground": true,
            "ticks": "",
            "zerolinecolor": "white"
           },
           "zaxis": {
            "backgroundcolor": "#E5ECF6",
            "gridcolor": "white",
            "gridwidth": 2,
            "linecolor": "white",
            "showbackground": true,
            "ticks": "",
            "zerolinecolor": "white"
           }
          },
          "shapedefaults": {
           "line": {
            "color": "#2a3f5f"
           }
          },
          "ternary": {
           "aaxis": {
            "gridcolor": "white",
            "linecolor": "white",
            "ticks": ""
           },
           "baxis": {
            "gridcolor": "white",
            "linecolor": "white",
            "ticks": ""
           },
           "bgcolor": "#E5ECF6",
           "caxis": {
            "gridcolor": "white",
            "linecolor": "white",
            "ticks": ""
           }
          },
          "title": {
           "x": 0.05
          },
          "xaxis": {
           "automargin": true,
           "gridcolor": "white",
           "linecolor": "white",
           "ticks": "",
           "title": {
            "standoff": 15
           },
           "zerolinecolor": "white",
           "zerolinewidth": 2
          },
          "yaxis": {
           "automargin": true,
           "gridcolor": "white",
           "linecolor": "white",
           "ticks": "",
           "title": {
            "standoff": 15
           },
           "zerolinecolor": "white",
           "zerolinewidth": 2
          }
         }
        },
        "title": {
         "text": "Democracy index ranking vs Conflict index ranking 2023"
        },
        "xaxis": {
         "anchor": "y",
         "domain": [
          0,
          1
         ],
         "title": {
          "text": "Democracy index ranking 2023"
         }
        },
        "yaxis": {
         "anchor": "x",
         "domain": [
          0,
          1
         ],
         "title": {
          "text": "Conflict index ranking 2023"
         }
        }
       }
      },
      "text/html": [
       "<div>                            <div id=\"7802fb7b-773e-4002-bd37-505d2660c1c7\" class=\"plotly-graph-div\" style=\"height:525px; width:100%;\"></div>            <script type=\"text/javascript\">                require([\"plotly\"], function(Plotly) {                    window.PLOTLYENV=window.PLOTLYENV || {};                                    if (document.getElementById(\"7802fb7b-773e-4002-bd37-505d2660c1c7\")) {                    Plotly.newPlot(                        \"7802fb7b-773e-4002-bd37-505d2660c1c7\",                        [{\"customdata\":[[\"Norway\"],[\"New Zealand\"],[\"Iceland\"],[\"Sweden\"],[\"Finland\"],[\"Denmark\"],[\"Ireland\"],[\"Switzerland\"],[\"Netherlands\"],[\"Taiwan\"],[\"Luxembourg\"],[\"Germany\"],[\"Canada\"],[\"Uruguay\"],[\"Australia\"],[\"Japan\"],[\"Costa Rica\"],[\"United Kingdom\"],[\"Austria\"],[\"Mauritius\"],[\"Greece\"],[\"South Korea\"],[\"Spain\"],[\"France\"],[\"Chile\"],[\"Estonia\"],[\"Malta\"],[\"United States\"],[\"Israel\"],[\"Portugal\"],[\"Slovenia\"],[\"Botswana\"],[\"Italy\"],[\"Cape Verde\"],[\"Belgium\"],[\"Latvia\"],[\"Cyprus\"],[\"Lithuania\"],[\"Malaysia\"],[\"India\"],[\"Poland\"],[\"Trinidad and Tobago\"],[\"Slovakia\"],[\"East Timor\"],[\"Jamaica\"],[\"South Africa\"],[\"Panama\"],[\"Suriname\"],[\"Hungary\"],[\"Brazil\"],[\"Montenegro\"],[\"Philippines\"],[\"Argentina\"],[\"Colombia\"],[\"Indonesia\"],[\"Namibia\"],[\"Croatia\"],[\"Mongolia\"],[\"Romania\"],[\"Dominican Republic\"],[\"Bulgaria\"],[\"Thailand\"],[\"Serbia\"],[\"Ghana\"],[\"Albania\"],[\"Guyana\"],[\"Moldova\"],[\"Singapore\"],[\"Sri Lanka\"],[\"Lesotho\"],[\"Papua New Guinea\"],[\"North Macedonia\"],[\"Paraguay\"],[\"Bangladesh\"],[\"Malawi\"],[\"Peru\"],[\"Zambia\"],[\"Liberia\"],[\"Fiji\"],[\"Bhutan\"],[\"Tunisia\"],[\"Senegal\"],[\"Armenia\"],[\"Ecuador\"],[\"Tanzania\"],[\"Madagascar\"],[\"Georgia\"],[\"Mexico\"],[\"Ukraine\"],[\"Kenya\"],[\"Morocco\"],[\"Bosnia and Herzegovina\"],[\"Honduras\"],[\"El Salvador\"],[\"Benin\"],[\"Nepal\"],[\"Uganda\"],[\"Gambia\"],[\"Guatemala\"],[\"Turkey\"],[\"Sierra Leone\"],[\"Nigeria\"],[\"Bolivia\"],[\"Angola\"],[\"Mauritania\"],[\"Kyrgyzstan\"],[\"Algeria\"],[\"Qatar\"],[\"Lebanon\"],[\"Mozambique\"],[\"Kuwait\"],[\"Palestine\"],[\"Ethiopia\"],[\"Rwanda\"],[\"Pakistan\"],[\"Oman\"],[\"Kazakhstan\"],[\"Cambodia\"],[\"Zimbabwe\"],[\"Comoros\"],[\"Jordan\"],[\"United Arab Emirates\"],[\"Togo\"],[\"Egypt\"],[\"Iraq\"],[\"Haiti\"],[\"Azerbaijan\"],[\"Burkina Faso\"],[\"Djibouti\"],[\"Cuba\"],[\"Vietnam\"],[\"Mali\"],[\"Cameroon\"],[\"Bahrain\"],[\"Guinea-Bissau\"],[\"Niger\"],[\"Venezuela\"],[\"Nicaragua\"],[\"Russia\"],[\"Guinea\"],[\"Gabon\"],[\"Burundi\"],[\"China\"]],\"hovertemplate\":\"ranking=%{x}<br>Index Ranking 2023=%{y}<br>Country_EN=%{customdata[0]}<extra></extra>\",\"legendgroup\":\"\",\"marker\":{\"color\":\"#636efa\",\"symbol\":\"circle\"},\"mode\":\"markers\",\"name\":\"\",\"orientation\":\"v\",\"showlegend\":false,\"x\":[1,2,3,4,5,6,7,8,9,10,11,12,13,14,14,16,17,18,18,20,20,22,23,23,25,27,28,29,30,31,31,33,34,35,36,39,39,41,42,43,43,45,46,47,47,49,50,51,52,53,54,55,56,57,58,59,60,61,62,63,64,65,66,67,68,69,70,71,72,74,75,75,77,78,79,80,81,84,85,86,87,88,89,90,91,92,94,95,96,97,98,99,100,102,103,104,105,106,106,109,110,111,113,114,115,116,117,118,119,120,121,122,123,124,125,126,127,128,129,129,129,132,133,134,135,136,137,140,141,142,143,144,145,146,147,148,149,150,151,152,153,154,155],\"xaxis\":\"x\",\"y\":[146,163,146,140,146,163,140,163,125,163,163,79,117,135,163,146,120,113,132,115,59,163,117,61,57,163,143,51,22,163,143,106,96,146,104,163,86,146,146,15,102,30,146,146,21,33,96,122,100,6,135,27,74,7,44,126,163,163,112,84,163,75,120,53,117,108,94,163,76,107,50,131,70,17,62,53,73,78,163,163,101,69,79,40,68,38,103,4,13,19,63,124,20,58,43,56,42,116,24,41,70,5,72,64,83,90,81,163,31,45,163,3,22,95,14,146,84,146,48,109,122,163,77,82,12,8,55,17,127,87,111,15,25,132,88,34,27,89,36,65,105,32,66],\"yaxis\":\"y\",\"type\":\"scatter\"},{\"hovertemplate\":\"<b>OLS trendline</b><br>Index Ranking 2023 = -0.472786 * ranking + 126.251<br>R<sup>2</sup>=0.187010<br><br>ranking=%{x}<br>Index Ranking 2023=%{y} <b>(trend)</b><extra></extra>\",\"legendgroup\":\"\",\"marker\":{\"color\":\"#636efa\",\"symbol\":\"circle\"},\"mode\":\"lines\",\"name\":\"\",\"showlegend\":false,\"x\":[1,2,3,4,5,6,7,8,9,10,11,12,13,14,14,16,17,18,18,20,20,22,23,23,25,27,28,29,30,31,31,33,34,35,36,39,39,41,42,43,43,45,46,47,47,49,50,51,52,53,54,55,56,57,58,59,60,61,62,63,64,65,66,67,68,69,70,71,72,74,75,75,77,78,79,80,81,84,85,86,87,88,89,90,91,92,94,95,96,97,98,99,100,102,103,104,105,106,106,109,110,111,113,114,115,116,117,118,119,120,121,122,123,124,125,126,127,128,129,129,129,132,133,134,135,136,137,140,141,142,143,144,145,146,147,148,149,150,151,152,153,154,155],\"xaxis\":\"x\",\"y\":[125.77803435129728,125.3052483175266,124.83246228375592,124.35967624998524,123.88689021621455,123.41410418244388,122.94131814867319,122.46853211490252,121.99574608113183,121.52296004736115,121.05017401359046,120.57738797981978,120.1046019460491,119.63181591227841,119.63181591227841,118.68624384473705,118.21345781096637,117.74067177719569,117.74067177719569,116.79509970965432,116.79509970965432,115.84952764211296,115.37674160834229,115.37674160834229,114.43116954080091,113.48559747325955,113.01281143948887,112.54002540571818,112.06723937194751,111.59445333817682,111.59445333817682,110.64888127063546,110.17609523686477,109.7033092030941,109.23052316932342,107.81216506801137,107.81216506801137,106.86659300047,106.39380696669932,105.92102093292864,105.92102093292864,104.97544886538728,104.50266283161659,104.0298767978459,104.0298767978459,103.08430473030455,102.61151869653386,102.13873266276318,101.6659466289925,101.19316059522181,100.72037456145114,100.24758852768045,99.77480249390976,99.30201646013909,98.82923042636841,98.35644439259772,97.88365835882703,97.41087232505636,96.93808629128567,96.465300257515,95.99251422374431,95.51972818997363,95.04694215620295,94.57415612243227,94.10137008866158,93.6285840548909,93.15579802112022,92.68301198734954,92.21022595357886,91.2646538860375,90.79186785226682,90.79186785226682,89.84629578472544,89.37350975095475,88.90072371718408,88.4279376834134,87.95515164964272,86.53679354833068,86.06400751455999,85.5912214807893,85.11843544701863,84.64564941324794,84.17286337947726,83.70007734570657,83.22729131193589,82.75450527816521,81.80893321062385,81.33614717685316,80.86336114308249,80.39057510931181,79.91778907554112,79.44500304177043,78.97221700799975,78.0266449404584,77.55385890668771,77.08107287291702,76.60828683914634,76.13550080537567,76.13550080537567,74.71714270406362,74.24435667029294,73.77157063652226,72.82599856898088,72.3532125352102,71.88042650143953,71.40764046766884,70.93485443389815,70.46206840012748,69.9892823663568,69.51649633258612,69.04371029881543,68.57092426504475,68.09813823127406,67.62535219750339,67.1525661637327,66.67978012996201,66.20699409619134,65.73420806242066,65.26142202864997,65.26142202864997,65.26142202864997,63.84306392733793,63.37027789356725,62.89749185979656,62.42470582602588,61.9519197922552,61.47913375848452,60.06077565717247,59.58798962340178,59.11520358963111,58.64241755586042,58.169631522089745,57.696845488319056,57.22405945454838,56.75127342077769,56.27848738700702,55.80570135323633,55.332915319465656,54.86012928569497,54.38734325192428,53.914557218153604,53.441771184382915,52.96898515061224],\"yaxis\":\"y\",\"type\":\"scatter\",\"line\":{\"color\":\"black\"}}],                        {\"template\":{\"data\":{\"histogram2dcontour\":[{\"type\":\"histogram2dcontour\",\"colorbar\":{\"outlinewidth\":0,\"ticks\":\"\"},\"colorscale\":[[0.0,\"#0d0887\"],[0.1111111111111111,\"#46039f\"],[0.2222222222222222,\"#7201a8\"],[0.3333333333333333,\"#9c179e\"],[0.4444444444444444,\"#bd3786\"],[0.5555555555555556,\"#d8576b\"],[0.6666666666666666,\"#ed7953\"],[0.7777777777777778,\"#fb9f3a\"],[0.8888888888888888,\"#fdca26\"],[1.0,\"#f0f921\"]]}],\"choropleth\":[{\"type\":\"choropleth\",\"colorbar\":{\"outlinewidth\":0,\"ticks\":\"\"}}],\"histogram2d\":[{\"type\":\"histogram2d\",\"colorbar\":{\"outlinewidth\":0,\"ticks\":\"\"},\"colorscale\":[[0.0,\"#0d0887\"],[0.1111111111111111,\"#46039f\"],[0.2222222222222222,\"#7201a8\"],[0.3333333333333333,\"#9c179e\"],[0.4444444444444444,\"#bd3786\"],[0.5555555555555556,\"#d8576b\"],[0.6666666666666666,\"#ed7953\"],[0.7777777777777778,\"#fb9f3a\"],[0.8888888888888888,\"#fdca26\"],[1.0,\"#f0f921\"]]}],\"heatmap\":[{\"type\":\"heatmap\",\"colorbar\":{\"outlinewidth\":0,\"ticks\":\"\"},\"colorscale\":[[0.0,\"#0d0887\"],[0.1111111111111111,\"#46039f\"],[0.2222222222222222,\"#7201a8\"],[0.3333333333333333,\"#9c179e\"],[0.4444444444444444,\"#bd3786\"],[0.5555555555555556,\"#d8576b\"],[0.6666666666666666,\"#ed7953\"],[0.7777777777777778,\"#fb9f3a\"],[0.8888888888888888,\"#fdca26\"],[1.0,\"#f0f921\"]]}],\"heatmapgl\":[{\"type\":\"heatmapgl\",\"colorbar\":{\"outlinewidth\":0,\"ticks\":\"\"},\"colorscale\":[[0.0,\"#0d0887\"],[0.1111111111111111,\"#46039f\"],[0.2222222222222222,\"#7201a8\"],[0.3333333333333333,\"#9c179e\"],[0.4444444444444444,\"#bd3786\"],[0.5555555555555556,\"#d8576b\"],[0.6666666666666666,\"#ed7953\"],[0.7777777777777778,\"#fb9f3a\"],[0.8888888888888888,\"#fdca26\"],[1.0,\"#f0f921\"]]}],\"contourcarpet\":[{\"type\":\"contourcarpet\",\"colorbar\":{\"outlinewidth\":0,\"ticks\":\"\"}}],\"contour\":[{\"type\":\"contour\",\"colorbar\":{\"outlinewidth\":0,\"ticks\":\"\"},\"colorscale\":[[0.0,\"#0d0887\"],[0.1111111111111111,\"#46039f\"],[0.2222222222222222,\"#7201a8\"],[0.3333333333333333,\"#9c179e\"],[0.4444444444444444,\"#bd3786\"],[0.5555555555555556,\"#d8576b\"],[0.6666666666666666,\"#ed7953\"],[0.7777777777777778,\"#fb9f3a\"],[0.8888888888888888,\"#fdca26\"],[1.0,\"#f0f921\"]]}],\"surface\":[{\"type\":\"surface\",\"colorbar\":{\"outlinewidth\":0,\"ticks\":\"\"},\"colorscale\":[[0.0,\"#0d0887\"],[0.1111111111111111,\"#46039f\"],[0.2222222222222222,\"#7201a8\"],[0.3333333333333333,\"#9c179e\"],[0.4444444444444444,\"#bd3786\"],[0.5555555555555556,\"#d8576b\"],[0.6666666666666666,\"#ed7953\"],[0.7777777777777778,\"#fb9f3a\"],[0.8888888888888888,\"#fdca26\"],[1.0,\"#f0f921\"]]}],\"mesh3d\":[{\"type\":\"mesh3d\",\"colorbar\":{\"outlinewidth\":0,\"ticks\":\"\"}}],\"scatter\":[{\"fillpattern\":{\"fillmode\":\"overlay\",\"size\":10,\"solidity\":0.2},\"type\":\"scatter\"}],\"parcoords\":[{\"type\":\"parcoords\",\"line\":{\"colorbar\":{\"outlinewidth\":0,\"ticks\":\"\"}}}],\"scatterpolargl\":[{\"type\":\"scatterpolargl\",\"marker\":{\"colorbar\":{\"outlinewidth\":0,\"ticks\":\"\"}}}],\"bar\":[{\"error_x\":{\"color\":\"#2a3f5f\"},\"error_y\":{\"color\":\"#2a3f5f\"},\"marker\":{\"line\":{\"color\":\"#E5ECF6\",\"width\":0.5},\"pattern\":{\"fillmode\":\"overlay\",\"size\":10,\"solidity\":0.2}},\"type\":\"bar\"}],\"scattergeo\":[{\"type\":\"scattergeo\",\"marker\":{\"colorbar\":{\"outlinewidth\":0,\"ticks\":\"\"}}}],\"scatterpolar\":[{\"type\":\"scatterpolar\",\"marker\":{\"colorbar\":{\"outlinewidth\":0,\"ticks\":\"\"}}}],\"histogram\":[{\"marker\":{\"pattern\":{\"fillmode\":\"overlay\",\"size\":10,\"solidity\":0.2}},\"type\":\"histogram\"}],\"scattergl\":[{\"type\":\"scattergl\",\"marker\":{\"colorbar\":{\"outlinewidth\":0,\"ticks\":\"\"}}}],\"scatter3d\":[{\"type\":\"scatter3d\",\"line\":{\"colorbar\":{\"outlinewidth\":0,\"ticks\":\"\"}},\"marker\":{\"colorbar\":{\"outlinewidth\":0,\"ticks\":\"\"}}}],\"scattermapbox\":[{\"type\":\"scattermapbox\",\"marker\":{\"colorbar\":{\"outlinewidth\":0,\"ticks\":\"\"}}}],\"scatterternary\":[{\"type\":\"scatterternary\",\"marker\":{\"colorbar\":{\"outlinewidth\":0,\"ticks\":\"\"}}}],\"scattercarpet\":[{\"type\":\"scattercarpet\",\"marker\":{\"colorbar\":{\"outlinewidth\":0,\"ticks\":\"\"}}}],\"carpet\":[{\"aaxis\":{\"endlinecolor\":\"#2a3f5f\",\"gridcolor\":\"white\",\"linecolor\":\"white\",\"minorgridcolor\":\"white\",\"startlinecolor\":\"#2a3f5f\"},\"baxis\":{\"endlinecolor\":\"#2a3f5f\",\"gridcolor\":\"white\",\"linecolor\":\"white\",\"minorgridcolor\":\"white\",\"startlinecolor\":\"#2a3f5f\"},\"type\":\"carpet\"}],\"table\":[{\"cells\":{\"fill\":{\"color\":\"#EBF0F8\"},\"line\":{\"color\":\"white\"}},\"header\":{\"fill\":{\"color\":\"#C8D4E3\"},\"line\":{\"color\":\"white\"}},\"type\":\"table\"}],\"barpolar\":[{\"marker\":{\"line\":{\"color\":\"#E5ECF6\",\"width\":0.5},\"pattern\":{\"fillmode\":\"overlay\",\"size\":10,\"solidity\":0.2}},\"type\":\"barpolar\"}],\"pie\":[{\"automargin\":true,\"type\":\"pie\"}]},\"layout\":{\"autotypenumbers\":\"strict\",\"colorway\":[\"#636efa\",\"#EF553B\",\"#00cc96\",\"#ab63fa\",\"#FFA15A\",\"#19d3f3\",\"#FF6692\",\"#B6E880\",\"#FF97FF\",\"#FECB52\"],\"font\":{\"color\":\"#2a3f5f\"},\"hovermode\":\"closest\",\"hoverlabel\":{\"align\":\"left\"},\"paper_bgcolor\":\"white\",\"plot_bgcolor\":\"#E5ECF6\",\"polar\":{\"bgcolor\":\"#E5ECF6\",\"angularaxis\":{\"gridcolor\":\"white\",\"linecolor\":\"white\",\"ticks\":\"\"},\"radialaxis\":{\"gridcolor\":\"white\",\"linecolor\":\"white\",\"ticks\":\"\"}},\"ternary\":{\"bgcolor\":\"#E5ECF6\",\"aaxis\":{\"gridcolor\":\"white\",\"linecolor\":\"white\",\"ticks\":\"\"},\"baxis\":{\"gridcolor\":\"white\",\"linecolor\":\"white\",\"ticks\":\"\"},\"caxis\":{\"gridcolor\":\"white\",\"linecolor\":\"white\",\"ticks\":\"\"}},\"coloraxis\":{\"colorbar\":{\"outlinewidth\":0,\"ticks\":\"\"}},\"colorscale\":{\"sequential\":[[0.0,\"#0d0887\"],[0.1111111111111111,\"#46039f\"],[0.2222222222222222,\"#7201a8\"],[0.3333333333333333,\"#9c179e\"],[0.4444444444444444,\"#bd3786\"],[0.5555555555555556,\"#d8576b\"],[0.6666666666666666,\"#ed7953\"],[0.7777777777777778,\"#fb9f3a\"],[0.8888888888888888,\"#fdca26\"],[1.0,\"#f0f921\"]],\"sequentialminus\":[[0.0,\"#0d0887\"],[0.1111111111111111,\"#46039f\"],[0.2222222222222222,\"#7201a8\"],[0.3333333333333333,\"#9c179e\"],[0.4444444444444444,\"#bd3786\"],[0.5555555555555556,\"#d8576b\"],[0.6666666666666666,\"#ed7953\"],[0.7777777777777778,\"#fb9f3a\"],[0.8888888888888888,\"#fdca26\"],[1.0,\"#f0f921\"]],\"diverging\":[[0,\"#8e0152\"],[0.1,\"#c51b7d\"],[0.2,\"#de77ae\"],[0.3,\"#f1b6da\"],[0.4,\"#fde0ef\"],[0.5,\"#f7f7f7\"],[0.6,\"#e6f5d0\"],[0.7,\"#b8e186\"],[0.8,\"#7fbc41\"],[0.9,\"#4d9221\"],[1,\"#276419\"]]},\"xaxis\":{\"gridcolor\":\"white\",\"linecolor\":\"white\",\"ticks\":\"\",\"title\":{\"standoff\":15},\"zerolinecolor\":\"white\",\"automargin\":true,\"zerolinewidth\":2},\"yaxis\":{\"gridcolor\":\"white\",\"linecolor\":\"white\",\"ticks\":\"\",\"title\":{\"standoff\":15},\"zerolinecolor\":\"white\",\"automargin\":true,\"zerolinewidth\":2},\"scene\":{\"xaxis\":{\"backgroundcolor\":\"#E5ECF6\",\"gridcolor\":\"white\",\"linecolor\":\"white\",\"showbackground\":true,\"ticks\":\"\",\"zerolinecolor\":\"white\",\"gridwidth\":2},\"yaxis\":{\"backgroundcolor\":\"#E5ECF6\",\"gridcolor\":\"white\",\"linecolor\":\"white\",\"showbackground\":true,\"ticks\":\"\",\"zerolinecolor\":\"white\",\"gridwidth\":2},\"zaxis\":{\"backgroundcolor\":\"#E5ECF6\",\"gridcolor\":\"white\",\"linecolor\":\"white\",\"showbackground\":true,\"ticks\":\"\",\"zerolinecolor\":\"white\",\"gridwidth\":2}},\"shapedefaults\":{\"line\":{\"color\":\"#2a3f5f\"}},\"annotationdefaults\":{\"arrowcolor\":\"#2a3f5f\",\"arrowhead\":0,\"arrowwidth\":1},\"geo\":{\"bgcolor\":\"white\",\"landcolor\":\"#E5ECF6\",\"subunitcolor\":\"white\",\"showland\":true,\"showlakes\":true,\"lakecolor\":\"white\"},\"title\":{\"x\":0.05},\"mapbox\":{\"style\":\"light\"}}},\"xaxis\":{\"anchor\":\"y\",\"domain\":[0.0,1.0],\"title\":{\"text\":\"Democracy index ranking 2023\"}},\"yaxis\":{\"anchor\":\"x\",\"domain\":[0.0,1.0],\"title\":{\"text\":\"Conflict index ranking 2023\"}},\"legend\":{\"tracegroupgap\":0},\"title\":{\"text\":\"Democracy index ranking vs Conflict index ranking 2023\"}},                        {\"responsive\": true}                    ).then(function(){\n",
       "                            \n",
       "var gd = document.getElementById('7802fb7b-773e-4002-bd37-505d2660c1c7');\n",
       "var x = new MutationObserver(function (mutations, observer) {{\n",
       "        var display = window.getComputedStyle(gd).display;\n",
       "        if (!display || display === 'none') {{\n",
       "            console.log([gd, 'removed!']);\n",
       "            Plotly.purge(gd);\n",
       "            observer.disconnect();\n",
       "        }}\n",
       "}});\n",
       "\n",
       "// Listen for the removal of the full notebook cells\n",
       "var notebookContainer = gd.closest('#notebook-container');\n",
       "if (notebookContainer) {{\n",
       "    x.observe(notebookContainer, {childList: true});\n",
       "}}\n",
       "\n",
       "// Listen for the clearing of the current output cell\n",
       "var outputEl = gd.closest('.output');\n",
       "if (outputEl) {{\n",
       "    x.observe(outputEl, {childList: true});\n",
       "}}\n",
       "\n",
       "                        })                };                });            </script>        </div>"
      ]
     },
     "metadata": {},
     "output_type": "display_data"
    }
   ],
   "source": [
    "# creeer een scatterplot om de relatie tussen de democratie en conflict aan te geven per land\n",
    "\n",
    "fig = px.scatter(data_joined_2, x='ranking', y='Index Ranking 2023', title = 'Democracy index ranking vs Conflict index ranking 2023', hover_data=['Country_EN'], trendline=\"ols\")\n",
    "\n",
    "fig.update_layout(\n",
    "    xaxis_title=\"Democracy index ranking 2023\",\n",
    "    yaxis_title=\"Conflict index ranking 2023\"\n",
    ")\n",
    "\n",
    "for trace in fig.data:\n",
    "    if trace.mode == \"lines\":\n",
    "        trace.line.color = \"black\"\n",
    "\n",
    "\n",
    "fig.show()"
   ]
  },
  {
   "cell_type": "markdown",
   "metadata": {},
   "source": [
    "## Ter verduidelijking:\n",
    "\n",
    "\n",
    "-----\n",
    "- 'Conflict index':\n",
    "\n",
    "Een hogere ranking (bijv. 1) geeft aan dat er in een land veel/grote conflicten zijn\n",
    "Een lagere ranking (bijv. 150) geeft aan dat er in een land weinig/kleine conflicten zijn\n",
    "\n",
    "--------\n",
    "- 'Democratie index':\n",
    "\n",
    "Een hogere ranking (bijv. 1) geeft aan dat er in een land een heersende democratie is\n",
    "Een lagere ranking (bijv. 150) geeft aan dat er in een land geen democratie is\n",
    "\n",
    "---------\n",
    "- 'Persvrijheid  index':\n",
    "\n",
    "Een hogere ranking (bijv. 1) geeft aan dat de pers in een land veel vrijheid heeft\n",
    "Een lagere ranking (bijv. 150) geeft aan dat de pers in een land weinig vrijheid heeft."
   ]
  }
 ],
 "metadata": {
  "kernelspec": {
   "display_name": "Python 3 (ipykernel)",
   "language": "python",
   "name": "python3"
  },
  "language_info": {
   "codemirror_mode": {
    "name": "ipython",
    "version": 3
   },
   "file_extension": ".py",
   "mimetype": "text/x-python",
   "name": "python",
   "nbconvert_exporter": "python",
   "pygments_lexer": "ipython3",
   "version": "3.10.14"
  },
  "widgets": {
   "application/vnd.jupyter.widget-state+json": {
    "state": {},
    "version_major": 2,
    "version_minor": 0
   }
  }
 },
 "nbformat": 4,
 "nbformat_minor": 4
}